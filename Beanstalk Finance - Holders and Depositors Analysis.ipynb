{
 "cells": [
  {
   "cell_type": "markdown",
   "id": "5303ae99",
   "metadata": {},
   "source": [
    "## Step 1: Upload list of addressses."
   ]
  },
  {
   "cell_type": "code",
   "execution_count": 50,
   "id": "cd7618e7",
   "metadata": {},
   "outputs": [],
   "source": [
    "'''\n",
    "A list of all token holders can be found at the dune dahsboard: https://dune.com/tahasaeed/beanstalk-research\n",
    "An update tot he dune dashboard allos Dune users to download tables. Click into the query results view for the \n",
    "table 'BeanStalk] - Account Holdings'. Below the query, on the right hand side of the page, you'll see a \"Export to CSV button.\"\n",
    "'''\n",
    "import pandas as pd\n",
    "holder_df = pd.read_csv('/Users/tahasaeed/Documents/GreenQuant Analytics/Beanstalk - Analysis - Holders data.csv')\n",
    "\n",
    "# select just list of addresses \n",
    "holder = holder_df['address']"
   ]
  },
  {
   "cell_type": "code",
   "execution_count": 18,
   "id": "597d7ec7",
   "metadata": {},
   "outputs": [],
   "source": [
    "''' Load subgraph query funtions '''\n",
    "import requests\n",
    "import pandas as pd\n",
    "import sys\n",
    "from collections import OrderedDict\n",
    "\n",
    "BEANSTALK_SUBGRAPH = \"https://graph.node.bean.money/subgraphs/name/beanstalk\"\n",
    "SUBGRAPH = \"https://gateway.thegraph.com/api/fe672ef9fcdfb617c4d7755f36a31131/subgraphs/id/0x925753106fcdb6d2f30c3db295328a0a1c5fd1d1-0\"\n",
    "\n",
    "token_addrs = OrderedDict(dict(\n",
    "    bean='0xBEA0000029AD1c77D3d5D23Ba2D8893dB9d1Efab'.lower(), \n",
    "    bean_3crv='0xc9C32cd16Bf7eFB85Ff14e0c8603cc90F6F2eE49'.lower(), \n",
    "    ur_bean='0x1BEA0050E63e05FBb5D8BA2f10cf5800B6224449'.lower(), \n",
    "    ur_bean_3crv='0x1BEA3CcD22F4EBd3d37d731BA31Eeca95713716D'.lower(), \n",
    "))\n",
    "\n",
    "## this query gets  deposits per seasion, token \n",
    "def farmerQuery(id):\n",
    "    return \"\"\"\n",
    "    {\n",
    "    farmer(id: \"ID\") {\n",
    "        deposits(orderBy: season, where: {amount_gt: 0}) {\n",
    "          id\n",
    "          season\n",
    "          token\n",
    "          amount\n",
    "          withdrawnAmount\n",
    "        }\n",
    "     }\n",
    "    }\n",
    "    \"\"\".replace(\"ID\", str(id))\n",
    "\n",
    "def run_cujo_query(query):\n",
    "  request = requests.post(SUBGRAPH,'',json={'query': query})\n",
    "  \n",
    "  if request.status_code == 200:\n",
    "      return request.json()\n",
    "  else:\n",
    "      raise Exception('Query failed. return code is {}.      {}'.format(\n",
    "              request.status_code, request\n",
    "          )\n",
    "      )\n",
    "\n",
    "def query_farmer_deposits(id):\n",
    "  query = run_cujo_query(farmerQuery(id.lower()))\n",
    "\n",
    "  if list(query.keys())[0] == \"errors\":\n",
    "    print(\"query_farmer_deposits: Error querying\")\n",
    "\n",
    "  if query['data']['farmer'] == None:\n",
    "    print(\"query_farmer_deposits: No deposits found for account \" + id)\n",
    "    \n",
    "  else:\n",
    "    data = query['data']['farmer']['deposits']\n",
    "    df = pd.DataFrame(data)\n",
    "  \n",
    "    return df\n",
    "\n",
    "def getDeposits(account):\n",
    "  data = query_farmer_deposits(account)\n",
    "  df = pd.DataFrame(data)\n",
    "\n",
    "  if not df.empty:\n",
    "    df['amount'] = df['amount']\n",
    "    df['withdrawnAmount'] = df['withdrawnAmount']\n",
    "\n",
    "    # Adds names to token addresses\n",
    "    token_addr_inv = {v: k for k, v in token_addrs.items()}\n",
    "    df['token_name'] = df.token.apply(lambda v: token_addr_inv[v])\n",
    "  else:\n",
    "    print(\"Error in getDeposits: Dataframe is empty\")\n",
    "\n",
    "  return df\n",
    "\n",
    "def get_Bean_Deposits(account):\n",
    "  df = getDeposits(account)\n",
    "  df_bean = df.loc[df.token_name == 'bean']\n",
    "\n",
    "  return getSeasonsAndAmounts(df_bean)\n",
    "\n",
    "def get_Total_Bean_Deposits(account):\n",
    "  df = getDeposits(account)\n",
    "  df_bean = df.loc[df.token_name == 'bean']\n",
    "  totalDepositedBeans = 0\n",
    "\n",
    "  crates, amounts = getSeasonsAndAmounts(df_bean)\n",
    "\n",
    "  for amount in amounts:\n",
    "    totalDepositedBeans += amount\n",
    "\n",
    "  return totalDepositedBeans\n",
    "\n",
    "def get_UrBean_Deposits(account):\n",
    "  df = getDeposits(account)\n",
    "  df_ur_bean = df.loc[df.token_name == 'ur_bean']\n",
    "\n",
    "  return getSeasonsAndAmounts(df_ur_bean)\n",
    "\n",
    "def get_Bean3CRV_Deposits(account):\n",
    "  df = getDeposits(account)\n",
    "  df_bean_3crv = df.loc[df.token_name == 'bean_3crv']\n",
    "\n",
    "  return getSeasonsAndAmounts(df_bean_3crv)\n",
    "\n",
    "def get_UrBean3CRV_Deposits(account):\n",
    "  df = getDeposits(account)\n",
    "  df_ur_bean_3crv = df.loc[df.token_name == 'ur_bean_3crv']\n",
    "\n",
    "  return getSeasonsAndAmounts(df_ur_bean_3crv)\n",
    "\n",
    "def getSeasonsAndAmounts(dataframe):\n",
    "  seasons = []\n",
    "  amounts = []\n",
    "\n",
    "  dataframe = dataframe.reset_index()\n",
    "\n",
    "  for index, row in dataframe.iterrows():\n",
    "    season = row['season']\n",
    "    amount = int(row['amount'])# - int(row['removedTokenAmount'])\n",
    "\n",
    "    seasons.append(season)\n",
    "    amounts.append(amount)\n",
    "\n",
    "  return seasons, amounts"
   ]
  },
  {
   "cell_type": "markdown",
   "id": "ae335d97",
   "metadata": {},
   "source": [
    "## Step 2: Process list of token holders to see how much holders have historically depostied."
   ]
  },
  {
   "cell_type": "code",
   "execution_count": 27,
   "id": "1f2c66a1",
   "metadata": {},
   "outputs": [],
   "source": [
    "# makes a dataframe of historical depostis\n",
    "def beanstalk_deposits_dataframe(list_of_addresses):\n",
    "    import pandas as pd\n",
    "    \n",
    "    new = pd.DataFrame()\n",
    "    # for loop through the list of account ids to get each account's deposits\n",
    "    for i in list_of_addresses: \n",
    "      # get deposits dataframe \n",
    "        deposits = getDeposits(i) \n",
    "\n",
    "      # check if the dataframe is empty \n",
    "        if deposits.empty: \n",
    "        # skip empty dataframes\n",
    "            continue \n",
    "  \n",
    "        # concatenate dataframes\n",
    "        new = pd.concat([new, deposits])\n",
    "\n",
    "    return new\n",
    "\n",
    "\n",
    "def export(path,filename,dataframe_object):\n",
    "    #save the dataframe as CSV file\n",
    "    dataframe_object.to_csv(path + '/' + filename + '.csv')\n",
    "    \n",
    "def process_depositors_df(depositors_df):\n",
    "    depositors_df['address'] = depositors_df['id'].str.split('-').str[0]\n",
    "    depositors_df['amount'] = depositors_df['amount'].astype(float)/10**6\n",
    "    return depositors_df\n",
    "\n",
    "# create interactive pie graph of deposits\n",
    "def pie_chart(token_df, limit, token_name): \n",
    "    address_totals = token_df.groupby('address')['amount'].sum()\n",
    "    address_totals = pd.DataFrame(address_totals).sort_values(by = 'amount', ascending=False)\n",
    "    address_totals = address_totals.reset_index()\n",
    "\n",
    "    address_totals['labels'] = address_totals.apply(lambda row: row['address'] if row['amount'] > limit else 'other', axis=1)\n",
    "    address_totals = address_totals.groupby('labels')['amount'].sum()\n",
    "    address_totals = pd.DataFrame(address_totals).sort_values(by = 'amount', ascending=False)\n",
    "    address_totals = address_totals.reset_index()\n",
    "\n",
    "    import plotly.express as px\n",
    "    fig = px.pie(address_totals, values='amount', names='labels', title= 'Deposits by Address:'+ token_name)\n",
    "    return fig.show()"
   ]
  },
  {
   "cell_type": "code",
   "execution_count": 92,
   "id": "75c4f9ff",
   "metadata": {},
   "outputs": [
    {
     "name": "stdout",
     "output_type": "stream",
     "text": [
      "Error in getDeposits: Dataframe is empty\n",
      "Error in getDeposits: Dataframe is empty\n",
      "Error in getDeposits: Dataframe is empty\n",
      "Error in getDeposits: Dataframe is empty\n",
      "Error in getDeposits: Dataframe is empty\n",
      "Error in getDeposits: Dataframe is empty\n",
      "query_farmer_deposits: No deposits found for account 0x4b9184df8fa9f3fc008fcde7e7bbf7208ef5118d\n",
      "Error in getDeposits: Dataframe is empty\n",
      "query_farmer_deposits: No deposits found for account 0xc42593f89d4b6647bff86fa309c72d5e93a9405c\n",
      "Error in getDeposits: Dataframe is empty\n",
      "Error in getDeposits: Dataframe is empty\n",
      "Error in getDeposits: Dataframe is empty\n",
      "Error in getDeposits: Dataframe is empty\n",
      "Error in getDeposits: Dataframe is empty\n",
      "query_farmer_deposits: No deposits found for account 0xb899183a31501d3641e6a2ab210c857b8923c800\n",
      "Error in getDeposits: Dataframe is empty\n",
      "Error in getDeposits: Dataframe is empty\n",
      "query_farmer_deposits: No deposits found for account 0x0000000000000000000000000000000000000000\n",
      "Error in getDeposits: Dataframe is empty\n",
      "query_farmer_deposits: No deposits found for account 0x59f77d72f4d6b35bedf107616e6f3ad30adc96e8\n",
      "Error in getDeposits: Dataframe is empty\n",
      "query_farmer_deposits: No deposits found for account 0x0bd6d43e080ff7e2fe7bd01a2b575a2cc863ea6f\n",
      "Error in getDeposits: Dataframe is empty\n",
      "query_farmer_deposits: No deposits found for account 0x594785ae419d314e211841abe4c97f6d199234b0\n",
      "Error in getDeposits: Dataframe is empty\n",
      "Error in getDeposits: Dataframe is empty\n",
      "Error in getDeposits: Dataframe is empty\n",
      "Error in getDeposits: Dataframe is empty\n",
      "Error in getDeposits: Dataframe is empty\n",
      "query_farmer_deposits: No deposits found for account 0x0b5a8323f067c89849b221afd7da41d8b7a60b93\n",
      "Error in getDeposits: Dataframe is empty\n",
      "Error in getDeposits: Dataframe is empty\n",
      "Error in getDeposits: Dataframe is empty\n",
      "Error in getDeposits: Dataframe is empty\n",
      "Error in getDeposits: Dataframe is empty\n",
      "Error in getDeposits: Dataframe is empty\n",
      "query_farmer_deposits: No deposits found for account 0x3a1ee37775bd856de7065c7ed624ba737379da6a\n",
      "Error in getDeposits: Dataframe is empty\n",
      "query_farmer_deposits: No deposits found for account 0xd74eb810af0d07b1b2308069404c8ae9c2133359\n",
      "Error in getDeposits: Dataframe is empty\n",
      "Error in getDeposits: Dataframe is empty\n",
      "Error in getDeposits: Dataframe is empty\n",
      "Error in getDeposits: Dataframe is empty\n",
      "Error in getDeposits: Dataframe is empty\n",
      "query_farmer_deposits: No deposits found for account 0x1b5be65af082a30fcf34fe639181977876ad74dd\n",
      "Error in getDeposits: Dataframe is empty\n",
      "query_farmer_deposits: No deposits found for account 0x11dd6f9e1a7bb35a61fada4aec645f603050783e\n",
      "Error in getDeposits: Dataframe is empty\n",
      "Error in getDeposits: Dataframe is empty\n",
      "query_farmer_deposits: No deposits found for account 0xb816b9ef17535b5ca2071e005da994a1f1eb3a16\n",
      "Error in getDeposits: Dataframe is empty\n",
      "Error in getDeposits: Dataframe is empty\n",
      "Error in getDeposits: Dataframe is empty\n",
      "Error in getDeposits: Dataframe is empty\n",
      "Error in getDeposits: Dataframe is empty\n",
      "Error in getDeposits: Dataframe is empty\n",
      "query_farmer_deposits: No deposits found for account 0x1e5c29702b770d5519932367129973bd63740392\n",
      "Error in getDeposits: Dataframe is empty\n",
      "query_farmer_deposits: No deposits found for account 0x777d0dcc4615ccfe3e575c20219fdf0bbe8251c7\n",
      "Error in getDeposits: Dataframe is empty\n",
      "Error in getDeposits: Dataframe is empty\n",
      "Error in getDeposits: Dataframe is empty\n",
      "query_farmer_deposits: No deposits found for account 0xc9c32cd16bf7efb85ff14e0c8603cc90f6f2ee49\n",
      "Error in getDeposits: Dataframe is empty\n",
      "Error in getDeposits: Dataframe is empty\n",
      "query_farmer_deposits: No deposits found for account 0x93f8a0163fba0e231356e4d1e2ffe95a247fe369\n",
      "Error in getDeposits: Dataframe is empty\n",
      "Error in getDeposits: Dataframe is empty\n",
      "query_farmer_deposits: No deposits found for account 0xd985937f350b2e636137dfe9e4c1f64ca12a9cdd\n",
      "Error in getDeposits: Dataframe is empty\n",
      "Error in getDeposits: Dataframe is empty\n",
      "Error in getDeposits: Dataframe is empty\n",
      "Error in getDeposits: Dataframe is empty\n",
      "query_farmer_deposits: No deposits found for account 0xee80ae11bb6c5e5c72a0adbba039620cc78716a8\n",
      "Error in getDeposits: Dataframe is empty\n",
      "query_farmer_deposits: No deposits found for account 0xef6fa3307af6ab6ddcc4826c4945041dd5c18d4b\n",
      "Error in getDeposits: Dataframe is empty\n",
      "Error in getDeposits: Dataframe is empty\n",
      "query_farmer_deposits: No deposits found for account 0xc1fe2bb036e3fc9eddcc83304dbe752881087cdf\n",
      "Error in getDeposits: Dataframe is empty\n",
      "Error in getDeposits: Dataframe is empty\n",
      "query_farmer_deposits: No deposits found for account 0x0dc5e243e53295238625bbaa66341141a9152e8b\n",
      "Error in getDeposits: Dataframe is empty\n",
      "Error in getDeposits: Dataframe is empty\n",
      "Error in getDeposits: Dataframe is empty\n",
      "query_farmer_deposits: No deposits found for account 0x555b6ee8fab3dfdbcca9121721c435fd4c7a1fd1\n",
      "Error in getDeposits: Dataframe is empty\n",
      "query_farmer_deposits: No deposits found for account 0x1b2d23b51aa27c64d8b3349a47a56f27ab0223b2\n",
      "Error in getDeposits: Dataframe is empty\n",
      "query_farmer_deposits: No deposits found for account 0x31e6e101fc123f90f0b8c50f750a9dfaf3e20321\n",
      "Error in getDeposits: Dataframe is empty\n",
      "Error in getDeposits: Dataframe is empty\n",
      "Error in getDeposits: Dataframe is empty\n",
      "query_farmer_deposits: No deposits found for account 0x451b8763651380fb8b49af4fd6953afe3a294f48\n",
      "Error in getDeposits: Dataframe is empty\n",
      "Error in getDeposits: Dataframe is empty\n",
      "Error in getDeposits: Dataframe is empty\n",
      "query_farmer_deposits: No deposits found for account 0x16ead66586ab33a4f43c770e30b013dd950fe026\n",
      "Error in getDeposits: Dataframe is empty\n",
      "query_farmer_deposits: No deposits found for account 0xf2f400c138f9fb900576263af0bc7fcde2b1b8a8\n",
      "Error in getDeposits: Dataframe is empty\n",
      "Error in getDeposits: Dataframe is empty\n",
      "Error in getDeposits: Dataframe is empty\n",
      "query_farmer_deposits: No deposits found for account 0x03ac4284cef2a05cc10160b54124fd0d447f092a\n",
      "Error in getDeposits: Dataframe is empty\n",
      "Error in getDeposits: Dataframe is empty\n",
      "query_farmer_deposits: No deposits found for account 0x288931fa76d7b0482f0fd0bca9a50bf0d22b9fef\n",
      "Error in getDeposits: Dataframe is empty\n",
      "Error in getDeposits: Dataframe is empty\n",
      "Error in getDeposits: Dataframe is empty\n",
      "query_farmer_deposits: No deposits found for account 0xa0e4b283a763372e5e03bd843dc8592917841660\n",
      "Error in getDeposits: Dataframe is empty\n",
      "query_farmer_deposits: No deposits found for account 0x8e9935504736e1716a9b64fe65791a59bb8b2a99\n",
      "Error in getDeposits: Dataframe is empty\n",
      "query_farmer_deposits: No deposits found for account 0xca09db061f08c65c9d818afb9ae6ae75a56c6e9a\n",
      "Error in getDeposits: Dataframe is empty\n",
      "query_farmer_deposits: No deposits found for account 0x234fefcd8e45950495373e07ce1445881f44f0b6\n",
      "Error in getDeposits: Dataframe is empty\n",
      "Error in getDeposits: Dataframe is empty\n",
      "query_farmer_deposits: No deposits found for account 0x3c2cd38f3c8fec5a2b25fed33bc92885728a7fcf\n",
      "Error in getDeposits: Dataframe is empty\n",
      "Error in getDeposits: Dataframe is empty\n",
      "Error in getDeposits: Dataframe is empty\n",
      "query_farmer_deposits: No deposits found for account 0x3314033f626b27fe660a1fbf27d2f2066325f7e6\n",
      "Error in getDeposits: Dataframe is empty\n",
      "Error in getDeposits: Dataframe is empty\n",
      "query_farmer_deposits: No deposits found for account 0x1536831a91f3a36824f331404206efcea1d686d6\n",
      "Error in getDeposits: Dataframe is empty\n",
      "query_farmer_deposits: No deposits found for account 0x3e27fd1a1ba6ae32958746424eb315c590e7af11\n",
      "Error in getDeposits: Dataframe is empty\n",
      "Error in getDeposits: Dataframe is empty\n",
      "Error in getDeposits: Dataframe is empty\n",
      "Error in getDeposits: Dataframe is empty\n",
      "Error in getDeposits: Dataframe is empty\n",
      "query_farmer_deposits: No deposits found for account 0x39faef970fba6822cc99f0270b32170fe85b792e\n",
      "Error in getDeposits: Dataframe is empty\n",
      "Error in getDeposits: Dataframe is empty\n",
      "Error in getDeposits: Dataframe is empty\n",
      "Error in getDeposits: Dataframe is empty\n",
      "Error in getDeposits: Dataframe is empty\n",
      "Error in getDeposits: Dataframe is empty\n",
      "query_farmer_deposits: No deposits found for account 0x45f0c134bdb3f8870bf76e57bb8f7729530002af\n",
      "Error in getDeposits: Dataframe is empty\n",
      "Error in getDeposits: Dataframe is empty\n",
      "query_farmer_deposits: No deposits found for account 0x99a58482bd75cbab83b27ec03ca68ff489b5788f\n",
      "Error in getDeposits: Dataframe is empty\n"
     ]
    },
    {
     "name": "stdout",
     "output_type": "stream",
     "text": [
      "Error in getDeposits: Dataframe is empty\n",
      "query_farmer_deposits: No deposits found for account 0x8521cfdfd0fd1ac18520fa8f262eb948d4420c8a\n",
      "Error in getDeposits: Dataframe is empty\n",
      "Error in getDeposits: Dataframe is empty\n",
      "query_farmer_deposits: No deposits found for account 0x14567c85977847836c17dd609a9bd767f3f03b51\n",
      "Error in getDeposits: Dataframe is empty\n",
      "Error in getDeposits: Dataframe is empty\n",
      "query_farmer_deposits: No deposits found for account 0x5179eab882e9f0822c87b24a48d6be45a4e7b7fb\n",
      "Error in getDeposits: Dataframe is empty\n",
      "Error in getDeposits: Dataframe is empty\n",
      "query_farmer_deposits: No deposits found for account 0x45f0c134bdb3f8870bf76e57bb8f7729530002af\n",
      "Error in getDeposits: Dataframe is empty\n",
      "Error in getDeposits: Dataframe is empty\n",
      "query_farmer_deposits: No deposits found for account 0x99a58482bd75cbab83b27ec03ca68ff489b5788f\n",
      "Error in getDeposits: Dataframe is empty\n",
      "Error in getDeposits: Dataframe is empty\n",
      "query_farmer_deposits: No deposits found for account 0x8521cfdfd0fd1ac18520fa8f262eb948d4420c8a\n",
      "Error in getDeposits: Dataframe is empty\n",
      "Error in getDeposits: Dataframe is empty\n",
      "query_farmer_deposits: No deposits found for account 0x14567c85977847836c17dd609a9bd767f3f03b51\n",
      "Error in getDeposits: Dataframe is empty\n",
      "Error in getDeposits: Dataframe is empty\n",
      "query_farmer_deposits: No deposits found for account 0x5179eab882e9f0822c87b24a48d6be45a4e7b7fb\n",
      "Error in getDeposits: Dataframe is empty\n",
      "Error in getDeposits: Dataframe is empty\n",
      "Error in getDeposits: Dataframe is empty\n",
      "Error in getDeposits: Dataframe is empty\n",
      "Error in getDeposits: Dataframe is empty\n",
      "query_farmer_deposits: No deposits found for account 0xac944231b51968a6e08b8f7ec4845f2f3b28df75\n",
      "Error in getDeposits: Dataframe is empty\n",
      "query_farmer_deposits: No deposits found for account 0xc825f4bdd2b6d0fac3148467b67641aabe942f7e\n",
      "Error in getDeposits: Dataframe is empty\n",
      "Error in getDeposits: Dataframe is empty\n",
      "Error in getDeposits: Dataframe is empty\n",
      "Error in getDeposits: Dataframe is empty\n",
      "Error in getDeposits: Dataframe is empty\n",
      "Error in getDeposits: Dataframe is empty\n",
      "query_farmer_deposits: No deposits found for account 0xad0a6c716bb43e58fe284e21d1234f14541f9478\n",
      "Error in getDeposits: Dataframe is empty\n",
      "Error in getDeposits: Dataframe is empty\n",
      "Error in getDeposits: Dataframe is empty\n",
      "Error in getDeposits: Dataframe is empty\n",
      "Error in getDeposits: Dataframe is empty\n",
      "Error in getDeposits: Dataframe is empty\n",
      "Error in getDeposits: Dataframe is empty\n",
      "Error in getDeposits: Dataframe is empty\n",
      "query_farmer_deposits: No deposits found for account 0x3789c64cc3a8120a93e9483d526d44be7305e455\n",
      "Error in getDeposits: Dataframe is empty\n",
      "Error in getDeposits: Dataframe is empty\n",
      "query_farmer_deposits: No deposits found for account 0xad0a6c716bb43e58fe284e21d1234f14541f9478\n",
      "Error in getDeposits: Dataframe is empty\n",
      "Error in getDeposits: Dataframe is empty\n",
      "Error in getDeposits: Dataframe is empty\n",
      "Error in getDeposits: Dataframe is empty\n",
      "Error in getDeposits: Dataframe is empty\n",
      "Error in getDeposits: Dataframe is empty\n",
      "Error in getDeposits: Dataframe is empty\n",
      "Error in getDeposits: Dataframe is empty\n",
      "query_farmer_deposits: No deposits found for account 0x3789c64cc3a8120a93e9483d526d44be7305e455\n",
      "Error in getDeposits: Dataframe is empty\n",
      "Error in getDeposits: Dataframe is empty\n",
      "query_farmer_deposits: No deposits found for account 0xad0a6c716bb43e58fe284e21d1234f14541f9478\n",
      "Error in getDeposits: Dataframe is empty\n",
      "Error in getDeposits: Dataframe is empty\n",
      "Error in getDeposits: Dataframe is empty\n",
      "Error in getDeposits: Dataframe is empty\n",
      "Error in getDeposits: Dataframe is empty\n",
      "Error in getDeposits: Dataframe is empty\n",
      "Error in getDeposits: Dataframe is empty\n",
      "Error in getDeposits: Dataframe is empty\n",
      "query_farmer_deposits: No deposits found for account 0x3789c64cc3a8120a93e9483d526d44be7305e455\n",
      "Error in getDeposits: Dataframe is empty\n",
      "Error in getDeposits: Dataframe is empty\n",
      "Error in getDeposits: Dataframe is empty\n",
      "query_farmer_deposits: No deposits found for account 0x6d11937490234176e6229c4b80b27fedf237465f\n",
      "Error in getDeposits: Dataframe is empty\n",
      "Error in getDeposits: Dataframe is empty\n",
      "query_farmer_deposits: No deposits found for account 0x0959158b6040d32d04c301a72cbfd6b39e21c9ae\n",
      "Error in getDeposits: Dataframe is empty\n",
      "Error in getDeposits: Dataframe is empty\n",
      "query_farmer_deposits: No deposits found for account 0x39399b07c79dfc74827ba74f3b7b5a5d544db44a\n",
      "Error in getDeposits: Dataframe is empty\n",
      "query_farmer_deposits: No deposits found for account 0x64707d044389a2c00f5296b93ad3a7f6fd073bee\n",
      "Error in getDeposits: Dataframe is empty\n",
      "Error in getDeposits: Dataframe is empty\n",
      "Error in getDeposits: Dataframe is empty\n",
      "query_farmer_deposits: No deposits found for account 0x55b916ce078ea594c10a874ba67ecc3d62e29822\n",
      "Error in getDeposits: Dataframe is empty\n",
      "Error in getDeposits: Dataframe is empty\n",
      "Error in getDeposits: Dataframe is empty\n",
      "Error in getDeposits: Dataframe is empty\n",
      "query_farmer_deposits: No deposits found for account 0xc7964cf98eb028ad27855c78b30e2474f920f7e5\n",
      "Error in getDeposits: Dataframe is empty\n",
      "Error in getDeposits: Dataframe is empty\n",
      "query_farmer_deposits: No deposits found for account 0x954e78ed6e442257e57cd15a2c6596c2032a900d\n",
      "Error in getDeposits: Dataframe is empty\n",
      "query_farmer_deposits: No deposits found for account 0x9ef6f4729791ab7115555e869bb772061f95f115\n",
      "Error in getDeposits: Dataframe is empty\n",
      "Error in getDeposits: Dataframe is empty\n",
      "query_farmer_deposits: No deposits found for account 0x6afacda0fb548e8b3b68525629a2006a783bb6d6\n",
      "Error in getDeposits: Dataframe is empty\n",
      "Error in getDeposits: Dataframe is empty\n",
      "Error in getDeposits: Dataframe is empty\n",
      "Error in getDeposits: Dataframe is empty\n",
      "Error in getDeposits: Dataframe is empty\n",
      "query_farmer_deposits: No deposits found for account 0x07f34c1ce9125ff59b80fb7bd7b0c7fae0838fd7\n",
      "Error in getDeposits: Dataframe is empty\n",
      "Error in getDeposits: Dataframe is empty\n",
      "Error in getDeposits: Dataframe is empty\n",
      "query_farmer_deposits: No deposits found for account 0xdecaf1d3c1b16e1ff8bc8fdc8d80d286d335e32e\n",
      "Error in getDeposits: Dataframe is empty\n",
      "query_farmer_deposits: No deposits found for account 0x18bfbc081001d58c26e52f9b2d0299c0c887c9c7\n",
      "Error in getDeposits: Dataframe is empty\n",
      "Error in getDeposits: Dataframe is empty\n",
      "Error in getDeposits: Dataframe is empty\n",
      "Error in getDeposits: Dataframe is empty\n",
      "Error in getDeposits: Dataframe is empty\n",
      "Error in getDeposits: Dataframe is empty\n",
      "Error in getDeposits: Dataframe is empty\n",
      "query_farmer_deposits: No deposits found for account 0x00000000009726632680fb29d3f7a9734e3010e2\n",
      "Error in getDeposits: Dataframe is empty\n",
      "Error in getDeposits: Dataframe is empty\n",
      "Error in getDeposits: Dataframe is empty\n",
      "Error in getDeposits: Dataframe is empty\n",
      "Error in getDeposits: Dataframe is empty\n",
      "Error in getDeposits: Dataframe is empty\n",
      "query_farmer_deposits: No deposits found for account 0x677f173390775e27277628eddaec5234bc368d89\n",
      "Error in getDeposits: Dataframe is empty\n",
      "Error in getDeposits: Dataframe is empty\n",
      "Error in getDeposits: Dataframe is empty\n",
      "Error in getDeposits: Dataframe is empty\n",
      "query_farmer_deposits: No deposits found for account 0x977703e95678fd656cb980295fe6feca0583b61f\n",
      "Error in getDeposits: Dataframe is empty\n",
      "Error in getDeposits: Dataframe is empty\n",
      "Error in getDeposits: Dataframe is empty\n",
      "Error in getDeposits: Dataframe is empty\n",
      "Error in getDeposits: Dataframe is empty\n",
      "Error in getDeposits: Dataframe is empty\n",
      "query_farmer_deposits: No deposits found for account 0x9df80329680718d269d7926d3375fe08c829d4e5\n",
      "Error in getDeposits: Dataframe is empty\n",
      "Error in getDeposits: Dataframe is empty\n",
      "Error in getDeposits: Dataframe is empty\n",
      "Error in getDeposits: Dataframe is empty\n",
      "query_farmer_deposits: No deposits found for account 0x93f7436fdecd7dffa34e19878ff32454a76c7634\n",
      "Error in getDeposits: Dataframe is empty\n",
      "query_farmer_deposits: No deposits found for account 0xdef171fe48cf0115b1d80b88dc8eab59176fee57\n",
      "Error in getDeposits: Dataframe is empty\n",
      "Error in getDeposits: Dataframe is empty\n",
      "Error in getDeposits: Dataframe is empty\n",
      "Error in getDeposits: Dataframe is empty\n",
      "Error in getDeposits: Dataframe is empty\n",
      "Error in getDeposits: Dataframe is empty\n",
      "Error in getDeposits: Dataframe is empty\n",
      "query_farmer_deposits: No deposits found for account 0x75a158b6939d9abc27b5e3ea9e79c11302cec60c\n",
      "Error in getDeposits: Dataframe is empty\n"
     ]
    },
    {
     "name": "stdout",
     "output_type": "stream",
     "text": [
      "query_farmer_deposits: No deposits found for account 0x84cc646eb2891f1b5314ba6e2bb5886f1ffcae0a\n",
      "Error in getDeposits: Dataframe is empty\n",
      "query_farmer_deposits: No deposits found for account 0x227b5a7e3f56cba0cbd747760e43f5c408a13541\n",
      "Error in getDeposits: Dataframe is empty\n",
      "Error in getDeposits: Dataframe is empty\n",
      "query_farmer_deposits: No deposits found for account 0x1111111254eeb25477b68fb85ed929f73a960582\n",
      "Error in getDeposits: Dataframe is empty\n",
      "Error in getDeposits: Dataframe is empty\n",
      "query_farmer_deposits: No deposits found for account 0x00ea27d7da1c0fc27a198374004efe546f655aef\n",
      "Error in getDeposits: Dataframe is empty\n",
      "Error in getDeposits: Dataframe is empty\n",
      "Error in getDeposits: Dataframe is empty\n",
      "Error in getDeposits: Dataframe is empty\n",
      "query_farmer_deposits: No deposits found for account 0x9edaff6744d6f539298cddd8c0171b774be2b86d\n",
      "Error in getDeposits: Dataframe is empty\n",
      "Error in getDeposits: Dataframe is empty\n",
      "query_farmer_deposits: No deposits found for account 0xeaa096218588303897afbc83679982347947f4d6\n",
      "Error in getDeposits: Dataframe is empty\n",
      "Error in getDeposits: Dataframe is empty\n",
      "Error in getDeposits: Dataframe is empty\n",
      "Error in getDeposits: Dataframe is empty\n",
      "query_farmer_deposits: No deposits found for account 0x5f26e116a8c932e3ec74d92b8bfab4bc69acd086\n",
      "Error in getDeposits: Dataframe is empty\n",
      "query_farmer_deposits: No deposits found for account 0x6eb211caf6d304a76efe37d9abdfaddc2d4363d1\n",
      "Error in getDeposits: Dataframe is empty\n",
      "Error in getDeposits: Dataframe is empty\n",
      "Error in getDeposits: Dataframe is empty\n",
      "query_farmer_deposits: No deposits found for account 0x4282341588f94c158bfaa40ae2c9f3abfdac647f\n",
      "Error in getDeposits: Dataframe is empty\n",
      "query_farmer_deposits: No deposits found for account 0xa86e29ad86d690f8b5a6a632cab8405d40a319fa\n",
      "Error in getDeposits: Dataframe is empty\n",
      "Error in getDeposits: Dataframe is empty\n",
      "Error in getDeposits: Dataframe is empty\n",
      "query_farmer_deposits: No deposits found for account 0x07a59461f6d849cfb1f7e27288501a4c7370e006\n",
      "Error in getDeposits: Dataframe is empty\n",
      "Error in getDeposits: Dataframe is empty\n",
      "Error in getDeposits: Dataframe is empty\n",
      "Error in getDeposits: Dataframe is empty\n",
      "Error in getDeposits: Dataframe is empty\n",
      "Error in getDeposits: Dataframe is empty\n",
      "Error in getDeposits: Dataframe is empty\n",
      "query_farmer_deposits: No deposits found for account 0x498b859d2e59958e209d7dd262324c8d31b12b12\n",
      "Error in getDeposits: Dataframe is empty\n",
      "Error in getDeposits: Dataframe is empty\n",
      "query_farmer_deposits: No deposits found for account 0xde8f5884d6ed8093611c9c1421879069d4a862ac\n",
      "Error in getDeposits: Dataframe is empty\n",
      "query_farmer_deposits: No deposits found for account 0xc1fb2f35761a92b6f0b5ba524b2b22285a27b4ed\n",
      "Error in getDeposits: Dataframe is empty\n",
      "query_farmer_deposits: No deposits found for account 0x0716a17fbaee714f1e6ab0f9d59edbc5f09815c0\n",
      "Error in getDeposits: Dataframe is empty\n",
      "Error in getDeposits: Dataframe is empty\n",
      "query_farmer_deposits: No deposits found for account 0x81c46feca27b31f3adc2b91ee4be9717d1cd3dd7\n",
      "Error in getDeposits: Dataframe is empty\n",
      "Error in getDeposits: Dataframe is empty\n",
      "query_farmer_deposits: No deposits found for account 0x0b3f6d4a5d6835137ccb2c1248f5a7d882c0dbda\n",
      "Error in getDeposits: Dataframe is empty\n",
      "query_farmer_deposits: No deposits found for account 0xf021f084477242fe6835c67234b4345de4db19e1\n",
      "Error in getDeposits: Dataframe is empty\n",
      "Error in getDeposits: Dataframe is empty\n",
      "Error in getDeposits: Dataframe is empty\n",
      "Error in getDeposits: Dataframe is empty\n",
      "query_farmer_deposits: No deposits found for account 0x2bc5ffc5de1a83a9e4cddfa138baed516d70414b\n",
      "Error in getDeposits: Dataframe is empty\n",
      "Error in getDeposits: Dataframe is empty\n",
      "Error in getDeposits: Dataframe is empty\n",
      "Error in getDeposits: Dataframe is empty\n",
      "Error in getDeposits: Dataframe is empty\n",
      "Error in getDeposits: Dataframe is empty\n",
      "Error in getDeposits: Dataframe is empty\n",
      "Error in getDeposits: Dataframe is empty\n",
      "Error in getDeposits: Dataframe is empty\n",
      "query_farmer_deposits: No deposits found for account 0x0e3eb2eab0e524b69c79e24910f4318db46baa9c\n",
      "Error in getDeposits: Dataframe is empty\n",
      "Error in getDeposits: Dataframe is empty\n",
      "Error in getDeposits: Dataframe is empty\n",
      "Error in getDeposits: Dataframe is empty\n",
      "Error in getDeposits: Dataframe is empty\n",
      "Error in getDeposits: Dataframe is empty\n",
      "Error in getDeposits: Dataframe is empty\n",
      "Error in getDeposits: Dataframe is empty\n",
      "Error in getDeposits: Dataframe is empty\n",
      "Error in getDeposits: Dataframe is empty\n",
      "query_farmer_deposits: No deposits found for account 0xa79828df1850e8a3a3064576f380d90aecdd3359\n",
      "Error in getDeposits: Dataframe is empty\n",
      "Error in getDeposits: Dataframe is empty\n",
      "query_farmer_deposits: No deposits found for account 0xe2dc368cf962426efa08b60c9570b19618b5e672\n",
      "Error in getDeposits: Dataframe is empty\n",
      "Error in getDeposits: Dataframe is empty\n",
      "query_farmer_deposits: No deposits found for account 0xdc2133d7ff0c38e0d022f319971c5391fa5b8d5b\n",
      "Error in getDeposits: Dataframe is empty\n",
      "query_farmer_deposits: No deposits found for account 0x74de5d4fcbf63e00296fd95d33236b9794016631\n",
      "Error in getDeposits: Dataframe is empty\n",
      "Error in getDeposits: Dataframe is empty\n",
      "Error in getDeposits: Dataframe is empty\n",
      "query_farmer_deposits: No deposits found for account 0x9918740aaaaed3166255677f8f30d018b8c75370\n",
      "Error in getDeposits: Dataframe is empty\n",
      "Error in getDeposits: Dataframe is empty\n",
      "query_farmer_deposits: No deposits found for account 0xf2d47e78dea8e0f96902c85902323d2a2012b0c0\n",
      "Error in getDeposits: Dataframe is empty\n",
      "query_farmer_deposits: No deposits found for account 0x6fcec9fc51359765d89dcdcf0e22dc96c26280b2\n",
      "Error in getDeposits: Dataframe is empty\n",
      "Error in getDeposits: Dataframe is empty\n",
      "Error in getDeposits: Dataframe is empty\n",
      "query_farmer_deposits: No deposits found for account 0x7b0391c88672f61c6a298afba746ce359fdaf6e6\n",
      "Error in getDeposits: Dataframe is empty\n",
      "Error in getDeposits: Dataframe is empty\n",
      "Error in getDeposits: Dataframe is empty\n",
      "Error in getDeposits: Dataframe is empty\n",
      "query_farmer_deposits: No deposits found for account 0x974dadf4837b8618c80bf9212e0a7590402a5752\n",
      "Error in getDeposits: Dataframe is empty\n",
      "Error in getDeposits: Dataframe is empty\n",
      "Error in getDeposits: Dataframe is empty\n",
      "query_farmer_deposits: No deposits found for account 0x53222470cdcfb8081c0e3a50fd106f0d69e63f20\n",
      "Error in getDeposits: Dataframe is empty\n",
      "query_farmer_deposits: No deposits found for account 0x39a8fa36ca6ee87bf5062ffeabc43249ca572666\n",
      "Error in getDeposits: Dataframe is empty\n",
      "Error in getDeposits: Dataframe is empty\n",
      "Error in getDeposits: Dataframe is empty\n",
      "Error in getDeposits: Dataframe is empty\n",
      "Error in getDeposits: Dataframe is empty\n",
      "Error in getDeposits: Dataframe is empty\n",
      "query_farmer_deposits: No deposits found for account 0xcafbfa9a10794f756f87ec6fcc1b3c23f9b556df\n",
      "Error in getDeposits: Dataframe is empty\n",
      "Error in getDeposits: Dataframe is empty\n",
      "Error in getDeposits: Dataframe is empty\n",
      "Error in getDeposits: Dataframe is empty\n",
      "Error in getDeposits: Dataframe is empty\n",
      "Error in getDeposits: Dataframe is empty\n",
      "Error in getDeposits: Dataframe is empty\n",
      "query_farmer_deposits: No deposits found for account 0xdd9f24efc84d93deef3c8745c837ab63e80abd27\n",
      "Error in getDeposits: Dataframe is empty\n",
      "query_farmer_deposits: No deposits found for account 0xa96fadab25a05dca522053908be92e8ce56529fc\n",
      "Error in getDeposits: Dataframe is empty\n",
      "Error in getDeposits: Dataframe is empty\n",
      "query_farmer_deposits: No deposits found for account 0x7122db0ebe4eb9b434a9f2ffe6760bc03bfbd0e0\n",
      "Error in getDeposits: Dataframe is empty\n",
      "Error in getDeposits: Dataframe is empty\n",
      "query_farmer_deposits: No deposits found for account 0x49c3feafddaefc3bed06f4ff87ce86610c2c1076\n",
      "Error in getDeposits: Dataframe is empty\n",
      "Error in getDeposits: Dataframe is empty\n",
      "query_farmer_deposits: No deposits found for account 0x70c6e66f75aa2cdfe899ef12397217d62d3eaeba\n",
      "Error in getDeposits: Dataframe is empty\n",
      "Error in getDeposits: Dataframe is empty\n",
      "Error in getDeposits: Dataframe is empty\n"
     ]
    }
   ],
   "source": [
    "depositors_df = beanstalk_deposits_dataframe(holder)"
   ]
  },
  {
   "cell_type": "code",
   "execution_count": 22,
   "id": "637702e7",
   "metadata": {},
   "outputs": [],
   "source": [
    "#specify the path to the folder you want to download the CSV file to\n",
    "path = '/Users/tahasaeed/Documents/GreenQuant Analytics'\n",
    "#specify the filename\n",
    "filename = 'deposits_log'\n",
    "dataframe_object = \n",
    "\n",
    "export(path,filename,dataframe_object, holders_df)"
   ]
  },
  {
   "cell_type": "markdown",
   "id": "0b4579d4",
   "metadata": {},
   "source": [
    "## Process deposits data frame to add token name"
   ]
  },
  {
   "cell_type": "code",
   "execution_count": 94,
   "id": "2156710b",
   "metadata": {},
   "outputs": [],
   "source": [
    "p_depositors_df = process_depositors_df(depositors_df)"
   ]
  },
  {
   "cell_type": "markdown",
   "id": "319598a1",
   "metadata": {},
   "source": [
    "## How many users have deposits by token?"
   ]
  },
  {
   "cell_type": "code",
   "execution_count": 99,
   "id": "25e8a03c",
   "metadata": {},
   "outputs": [
    {
     "name": "stdout",
     "output_type": "stream",
     "text": [
      "521\n",
      "63.38% of holders have deposits in the Beanstalk protocol\n"
     ]
    },
    {
     "data": {
      "text/html": [
       "<div>\n",
       "<style scoped>\n",
       "    .dataframe tbody tr th:only-of-type {\n",
       "        vertical-align: middle;\n",
       "    }\n",
       "\n",
       "    .dataframe tbody tr th {\n",
       "        vertical-align: top;\n",
       "    }\n",
       "\n",
       "    .dataframe thead th {\n",
       "        text-align: right;\n",
       "    }\n",
       "</style>\n",
       "<table border=\"1\" class=\"dataframe\">\n",
       "  <thead>\n",
       "    <tr style=\"text-align: right;\">\n",
       "      <th></th>\n",
       "      <th>count_unique_addresses</th>\n",
       "    </tr>\n",
       "    <tr>\n",
       "      <th>token_name</th>\n",
       "      <th></th>\n",
       "    </tr>\n",
       "  </thead>\n",
       "  <tbody>\n",
       "    <tr>\n",
       "      <th>bean</th>\n",
       "      <td>311</td>\n",
       "    </tr>\n",
       "    <tr>\n",
       "      <th>bean_3crv</th>\n",
       "      <td>65</td>\n",
       "    </tr>\n",
       "    <tr>\n",
       "      <th>ur_bean</th>\n",
       "      <td>415</td>\n",
       "    </tr>\n",
       "    <tr>\n",
       "      <th>ur_bean_3crv</th>\n",
       "      <td>361</td>\n",
       "    </tr>\n",
       "  </tbody>\n",
       "</table>\n",
       "</div>"
      ],
      "text/plain": [
       "              count_unique_addresses\n",
       "token_name                          \n",
       "bean                             311\n",
       "bean_3crv                         65\n",
       "ur_bean                          415\n",
       "ur_bean_3crv                     361"
      ]
     },
     "execution_count": 99,
     "metadata": {},
     "output_type": "execute_result"
    }
   ],
   "source": [
    "print(p_depositors_df['address'].nunique())\n",
    "print(f\"{round(p_depositors_df['address'].nunique()/holder_df['address'].nunique()*100, 2)}% of holders have deposits in the Beanstalk protocol\")\n",
    "pd.DataFrame(p_depositors_df.groupby('token_name')['address'].nunique()).rename(columns={'address':'count_unique_addresses'})"
   ]
  },
  {
   "cell_type": "markdown",
   "id": "ef50aa58",
   "metadata": {},
   "source": [
    "## How much has been deposited?"
   ]
  },
  {
   "cell_type": "code",
   "execution_count": 100,
   "id": "613e3a69",
   "metadata": {},
   "outputs": [
    {
     "data": {
      "text/plain": [
       "token_name\n",
       "bean            6.312505e+05\n",
       "bean_3crv       1.778629e+17\n",
       "ur_bean         1.298988e+07\n",
       "ur_bean_3crv    5.528245e+07\n",
       "Name: amount, dtype: float64"
      ]
     },
     "execution_count": 100,
     "metadata": {},
     "output_type": "execute_result"
    }
   ],
   "source": [
    "p_depositors_df.groupby('token_name')['amount'].sum()\n",
    "# bean_3crv - use 10**18 as the decimal"
   ]
  },
  {
   "cell_type": "markdown",
   "id": "3e16d3a5",
   "metadata": {},
   "source": [
    "## How often has each holder has deposited a token?"
   ]
  },
  {
   "cell_type": "code",
   "execution_count": 101,
   "id": "0d9251d2",
   "metadata": {
    "scrolled": true
   },
   "outputs": [
    {
     "data": {
      "text/html": [
       "<div>\n",
       "<style scoped>\n",
       "    .dataframe tbody tr th:only-of-type {\n",
       "        vertical-align: middle;\n",
       "    }\n",
       "\n",
       "    .dataframe tbody tr th {\n",
       "        vertical-align: top;\n",
       "    }\n",
       "\n",
       "    .dataframe thead th {\n",
       "        text-align: right;\n",
       "    }\n",
       "</style>\n",
       "<table border=\"1\" class=\"dataframe\">\n",
       "  <thead>\n",
       "    <tr style=\"text-align: right;\">\n",
       "      <th></th>\n",
       "      <th></th>\n",
       "      <th>0</th>\n",
       "    </tr>\n",
       "    <tr>\n",
       "      <th>token_name</th>\n",
       "      <th>address</th>\n",
       "      <th></th>\n",
       "    </tr>\n",
       "  </thead>\n",
       "  <tbody>\n",
       "    <tr>\n",
       "      <th>ur_bean</th>\n",
       "      <th>0xaf812e8babab3173edce179fe6fc6c2b1c482e39</th>\n",
       "      <td>79</td>\n",
       "    </tr>\n",
       "    <tr>\n",
       "      <th rowspan=\"2\" valign=\"top\">ur_bean_3crv</th>\n",
       "      <th>0x4c180462a051ab67d8237ede2c987590df2fbbe6</th>\n",
       "      <td>58</td>\n",
       "    </tr>\n",
       "    <tr>\n",
       "      <th>0xf1a621fe077e4e9ac2c0cefd9b69551db9c3f657</th>\n",
       "      <td>44</td>\n",
       "    </tr>\n",
       "    <tr>\n",
       "      <th rowspan=\"2\" valign=\"top\">ur_bean</th>\n",
       "      <th>0x60e8b62c7da32ff62fcd4ab934b75d2d28fe7501</th>\n",
       "      <td>43</td>\n",
       "    </tr>\n",
       "    <tr>\n",
       "      <th>0xacc53f19851ce116d52b730aee8772f7bd568821</th>\n",
       "      <td>34</td>\n",
       "    </tr>\n",
       "    <tr>\n",
       "      <th>bean</th>\n",
       "      <th>0xf05b641229bb2aa63b205ad8b423a390f7ef05a7</th>\n",
       "      <td>31</td>\n",
       "    </tr>\n",
       "    <tr>\n",
       "      <th rowspan=\"3\" valign=\"top\">ur_bean_3crv</th>\n",
       "      <th>0xc2820f702ef0fbd8842c5ce8a4fcac5315593732</th>\n",
       "      <td>29</td>\n",
       "    </tr>\n",
       "    <tr>\n",
       "      <th>0xef764bac8a438e7e498c2e5fccf0f174c3e3f8db</th>\n",
       "      <td>29</td>\n",
       "    </tr>\n",
       "    <tr>\n",
       "      <th>0x36998db3f9d958f0ebaef7b0b6bf11f3441b216f</th>\n",
       "      <td>28</td>\n",
       "    </tr>\n",
       "    <tr>\n",
       "      <th>ur_bean</th>\n",
       "      <th>0x561cbb53ba4d7912dbf9969759725bd79d920e2c</th>\n",
       "      <td>28</td>\n",
       "    </tr>\n",
       "    <tr>\n",
       "      <th>ur_bean_3crv</th>\n",
       "      <th>0xf05b641229bb2aa63b205ad8b423a390f7ef05a7</th>\n",
       "      <td>28</td>\n",
       "    </tr>\n",
       "    <tr>\n",
       "      <th>bean</th>\n",
       "      <th>0xe146313a9d6d6ccdd733cc15af3cf11d47e96f25</th>\n",
       "      <td>27</td>\n",
       "    </tr>\n",
       "    <tr>\n",
       "      <th rowspan=\"2\" valign=\"top\">ur_bean_3crv</th>\n",
       "      <th>0xdb4fbc231f1d2b3b4c3d9e1602c895806fb06278</th>\n",
       "      <td>27</td>\n",
       "    </tr>\n",
       "    <tr>\n",
       "      <th>0xe146313a9d6d6ccdd733cc15af3cf11d47e96f25</th>\n",
       "      <td>27</td>\n",
       "    </tr>\n",
       "    <tr>\n",
       "      <th rowspan=\"2\" valign=\"top\">ur_bean</th>\n",
       "      <th>0xce66c6a88bd7bec215aa04fda4cf7c81055521d0</th>\n",
       "      <td>27</td>\n",
       "    </tr>\n",
       "    <tr>\n",
       "      <th>0x83c9ec651027e061bcc39485c1fb369297bd428c</th>\n",
       "      <td>26</td>\n",
       "    </tr>\n",
       "    <tr>\n",
       "      <th rowspan=\"2\" valign=\"top\">ur_bean_3crv</th>\n",
       "      <th>0xee7840dac7c3ec2ccde49517fd3952e349997ab5</th>\n",
       "      <td>25</td>\n",
       "    </tr>\n",
       "    <tr>\n",
       "      <th>0x56a201b872b50bbdee0021ed4d1bb36359d291ed</th>\n",
       "      <td>25</td>\n",
       "    </tr>\n",
       "    <tr>\n",
       "      <th>ur_bean</th>\n",
       "      <th>0xefaa5fe183b7cbe2772fe4ac88831b7aa6c37422</th>\n",
       "      <td>25</td>\n",
       "    </tr>\n",
       "    <tr>\n",
       "      <th>ur_bean_3crv</th>\n",
       "      <th>0x4f8d7711d18344f86a5f27863051964d333798e2</th>\n",
       "      <td>24</td>\n",
       "    </tr>\n",
       "  </tbody>\n",
       "</table>\n",
       "</div>"
      ],
      "text/plain": [
       "                                                          0\n",
       "token_name   address                                       \n",
       "ur_bean      0xaf812e8babab3173edce179fe6fc6c2b1c482e39  79\n",
       "ur_bean_3crv 0x4c180462a051ab67d8237ede2c987590df2fbbe6  58\n",
       "             0xf1a621fe077e4e9ac2c0cefd9b69551db9c3f657  44\n",
       "ur_bean      0x60e8b62c7da32ff62fcd4ab934b75d2d28fe7501  43\n",
       "             0xacc53f19851ce116d52b730aee8772f7bd568821  34\n",
       "bean         0xf05b641229bb2aa63b205ad8b423a390f7ef05a7  31\n",
       "ur_bean_3crv 0xc2820f702ef0fbd8842c5ce8a4fcac5315593732  29\n",
       "             0xef764bac8a438e7e498c2e5fccf0f174c3e3f8db  29\n",
       "             0x36998db3f9d958f0ebaef7b0b6bf11f3441b216f  28\n",
       "ur_bean      0x561cbb53ba4d7912dbf9969759725bd79d920e2c  28\n",
       "ur_bean_3crv 0xf05b641229bb2aa63b205ad8b423a390f7ef05a7  28\n",
       "bean         0xe146313a9d6d6ccdd733cc15af3cf11d47e96f25  27\n",
       "ur_bean_3crv 0xdb4fbc231f1d2b3b4c3d9e1602c895806fb06278  27\n",
       "             0xe146313a9d6d6ccdd733cc15af3cf11d47e96f25  27\n",
       "ur_bean      0xce66c6a88bd7bec215aa04fda4cf7c81055521d0  27\n",
       "             0x83c9ec651027e061bcc39485c1fb369297bd428c  26\n",
       "ur_bean_3crv 0xee7840dac7c3ec2ccde49517fd3952e349997ab5  25\n",
       "             0x56a201b872b50bbdee0021ed4d1bb36359d291ed  25\n",
       "ur_bean      0xefaa5fe183b7cbe2772fe4ac88831b7aa6c37422  25\n",
       "ur_bean_3crv 0x4f8d7711d18344f86a5f27863051964d333798e2  24"
      ]
     },
     "execution_count": 101,
     "metadata": {},
     "output_type": "execute_result"
    }
   ],
   "source": [
    "pd.DataFrame(p_depositors_df[['token_name','address']].value_counts()).head(20)"
   ]
  },
  {
   "cell_type": "markdown",
   "id": "55d9cc01",
   "metadata": {},
   "source": [
    "## Let's get some descriptives about the deposits"
   ]
  },
  {
   "cell_type": "code",
   "execution_count": 102,
   "id": "d3571c63",
   "metadata": {},
   "outputs": [
    {
     "data": {
      "text/html": [
       "<div>\n",
       "<style scoped>\n",
       "    .dataframe tbody tr th:only-of-type {\n",
       "        vertical-align: middle;\n",
       "    }\n",
       "\n",
       "    .dataframe tbody tr th {\n",
       "        vertical-align: top;\n",
       "    }\n",
       "\n",
       "    .dataframe thead th {\n",
       "        text-align: right;\n",
       "    }\n",
       "</style>\n",
       "<table border=\"1\" class=\"dataframe\">\n",
       "  <thead>\n",
       "    <tr style=\"text-align: right;\">\n",
       "      <th></th>\n",
       "      <th>ur_bean</th>\n",
       "      <th>ur_bean_3crv</th>\n",
       "      <th>bean</th>\n",
       "      <th>bean_3crv</th>\n",
       "    </tr>\n",
       "  </thead>\n",
       "  <tbody>\n",
       "    <tr>\n",
       "      <th>count</th>\n",
       "      <td>1391.0</td>\n",
       "      <td>1770.0</td>\n",
       "      <td>1084.0</td>\n",
       "      <td>1.520000e+02</td>\n",
       "    </tr>\n",
       "    <tr>\n",
       "      <th>mean</th>\n",
       "      <td>9339.0</td>\n",
       "      <td>31233.0</td>\n",
       "      <td>582.0</td>\n",
       "      <td>1.170151e+15</td>\n",
       "    </tr>\n",
       "    <tr>\n",
       "      <th>std</th>\n",
       "      <td>42276.0</td>\n",
       "      <td>95955.0</td>\n",
       "      <td>3886.0</td>\n",
       "      <td>3.139966e+15</td>\n",
       "    </tr>\n",
       "    <tr>\n",
       "      <th>min</th>\n",
       "      <td>0.0</td>\n",
       "      <td>0.0</td>\n",
       "      <td>0.0</td>\n",
       "      <td>3.951399e+11</td>\n",
       "    </tr>\n",
       "    <tr>\n",
       "      <th>25%</th>\n",
       "      <td>8.0</td>\n",
       "      <td>2004.0</td>\n",
       "      <td>2.0</td>\n",
       "      <td>9.455028e+13</td>\n",
       "    </tr>\n",
       "    <tr>\n",
       "      <th>50%</th>\n",
       "      <td>368.0</td>\n",
       "      <td>6269.0</td>\n",
       "      <td>15.0</td>\n",
       "      <td>3.671451e+14</td>\n",
       "    </tr>\n",
       "    <tr>\n",
       "      <th>75%</th>\n",
       "      <td>2337.0</td>\n",
       "      <td>22137.0</td>\n",
       "      <td>63.0</td>\n",
       "      <td>8.680768e+14</td>\n",
       "    </tr>\n",
       "    <tr>\n",
       "      <th>max</th>\n",
       "      <td>921951.0</td>\n",
       "      <td>1932137.0</td>\n",
       "      <td>53934.0</td>\n",
       "      <td>2.474391e+16</td>\n",
       "    </tr>\n",
       "  </tbody>\n",
       "</table>\n",
       "</div>"
      ],
      "text/plain": [
       "        ur_bean  ur_bean_3crv     bean     bean_3crv\n",
       "count    1391.0        1770.0   1084.0  1.520000e+02\n",
       "mean     9339.0       31233.0    582.0  1.170151e+15\n",
       "std     42276.0       95955.0   3886.0  3.139966e+15\n",
       "min         0.0           0.0      0.0  3.951399e+11\n",
       "25%         8.0        2004.0      2.0  9.455028e+13\n",
       "50%       368.0        6269.0     15.0  3.671451e+14\n",
       "75%      2337.0       22137.0     63.0  8.680768e+14\n",
       "max    921951.0     1932137.0  53934.0  2.474391e+16"
      ]
     },
     "execution_count": 102,
     "metadata": {},
     "output_type": "execute_result"
    }
   ],
   "source": [
    "df = p_depositors_df\n",
    "descriptives = pd.DataFrame()\n",
    "value_counts = []\n",
    "for i in df['token_name'].unique():\n",
    "    temp = df[df['token_name']== str(i)]\n",
    "    temp = temp['amount'].describe().round()\n",
    "    temp = temp.rename(i, inplace=True)\n",
    "    descriptives = pd.concat([descriptives, temp], axis=1)\n",
    "descriptives"
   ]
  },
  {
   "cell_type": "code",
   "execution_count": 103,
   "id": "b4b9aa68",
   "metadata": {},
   "outputs": [],
   "source": [
    "bean = df[df['token_name']== 'bean']\n",
    "ur_bean = df[df['token_name']== 'ur_bean']\n",
    "bean_3crv = df[df['token_name']== 'bean_3crv']\n",
    "ur_bean_3crv = df[df['token_name']== 'ur_bean_3crv']"
   ]
  },
  {
   "cell_type": "markdown",
   "id": "3e977f0d",
   "metadata": {},
   "source": [
    "## Deposits by users\n",
    "\n",
    "As of May 9th there are no deposits for ur_bean, ur_bean_crv3 or bean, so only the mean_crv3 deposits are visualized."
   ]
  },
  {
   "cell_type": "code",
   "execution_count": 114,
   "id": "cfa94e4d",
   "metadata": {},
   "outputs": [
    {
     "data": {
      "application/vnd.plotly.v1+json": {
       "config": {
        "plotlyServerURL": "https://plot.ly"
       },
       "data": [
        {
         "domain": {
          "x": [
           0,
           1
          ],
          "y": [
           0,
           1
          ]
         },
         "hovertemplate": "labels=%{label}<br>amount=%{value}<extra></extra>",
         "labels": [
          "other",
          "0x4c180462a051ab67d8237ede2c987590df2fbbe6",
          "0x7e88276d8d638426f4cb3b4bbb5a9bf42c24075a",
          "0x36998db3f9d958f0ebaef7b0b6bf11f3441b216f",
          "0xa92ab746eac03e5ec31cd3a879014a7d1e04640c",
          "0x1b7ea7d42c476a1e2808f23e18d850c5a4692df7",
          "0x1348ea8e35236aa0769b91ae291e7291117bf15c",
          "0x58737a9b0a8a5c8a2559c457fcc9e923f9d99fb7",
          "0x4cc19a7a359f2ff54ff087f03b6887f436f08c11",
          "0xd6f2bea66fcba0b9f426e185f3c98f6585c746d3",
          "0xf7a7ae64cf9e9dd26fd2530a9b6fc571a31e75a1"
         ],
         "legendgroup": "",
         "name": "",
         "showlegend": true,
         "type": "pie",
         "values": [
          40230939411817100,
          30429228515720056,
          26260377322610570,
          25441565774189420,
          14656008229962904,
          9309000423972316,
          7994592793874502,
          7403558081943724,
          5716311595742947,
          5409822751885722,
          5011475146147294
         ]
        }
       ],
       "layout": {
        "legend": {
         "tracegroupgap": 0
        },
        "template": {
         "data": {
          "bar": [
           {
            "error_x": {
             "color": "#2a3f5f"
            },
            "error_y": {
             "color": "#2a3f5f"
            },
            "marker": {
             "line": {
              "color": "#E5ECF6",
              "width": 0.5
             },
             "pattern": {
              "fillmode": "overlay",
              "size": 10,
              "solidity": 0.2
             }
            },
            "type": "bar"
           }
          ],
          "barpolar": [
           {
            "marker": {
             "line": {
              "color": "#E5ECF6",
              "width": 0.5
             },
             "pattern": {
              "fillmode": "overlay",
              "size": 10,
              "solidity": 0.2
             }
            },
            "type": "barpolar"
           }
          ],
          "carpet": [
           {
            "aaxis": {
             "endlinecolor": "#2a3f5f",
             "gridcolor": "white",
             "linecolor": "white",
             "minorgridcolor": "white",
             "startlinecolor": "#2a3f5f"
            },
            "baxis": {
             "endlinecolor": "#2a3f5f",
             "gridcolor": "white",
             "linecolor": "white",
             "minorgridcolor": "white",
             "startlinecolor": "#2a3f5f"
            },
            "type": "carpet"
           }
          ],
          "choropleth": [
           {
            "colorbar": {
             "outlinewidth": 0,
             "ticks": ""
            },
            "type": "choropleth"
           }
          ],
          "contour": [
           {
            "colorbar": {
             "outlinewidth": 0,
             "ticks": ""
            },
            "colorscale": [
             [
              0,
              "#0d0887"
             ],
             [
              0.1111111111111111,
              "#46039f"
             ],
             [
              0.2222222222222222,
              "#7201a8"
             ],
             [
              0.3333333333333333,
              "#9c179e"
             ],
             [
              0.4444444444444444,
              "#bd3786"
             ],
             [
              0.5555555555555556,
              "#d8576b"
             ],
             [
              0.6666666666666666,
              "#ed7953"
             ],
             [
              0.7777777777777778,
              "#fb9f3a"
             ],
             [
              0.8888888888888888,
              "#fdca26"
             ],
             [
              1,
              "#f0f921"
             ]
            ],
            "type": "contour"
           }
          ],
          "contourcarpet": [
           {
            "colorbar": {
             "outlinewidth": 0,
             "ticks": ""
            },
            "type": "contourcarpet"
           }
          ],
          "heatmap": [
           {
            "colorbar": {
             "outlinewidth": 0,
             "ticks": ""
            },
            "colorscale": [
             [
              0,
              "#0d0887"
             ],
             [
              0.1111111111111111,
              "#46039f"
             ],
             [
              0.2222222222222222,
              "#7201a8"
             ],
             [
              0.3333333333333333,
              "#9c179e"
             ],
             [
              0.4444444444444444,
              "#bd3786"
             ],
             [
              0.5555555555555556,
              "#d8576b"
             ],
             [
              0.6666666666666666,
              "#ed7953"
             ],
             [
              0.7777777777777778,
              "#fb9f3a"
             ],
             [
              0.8888888888888888,
              "#fdca26"
             ],
             [
              1,
              "#f0f921"
             ]
            ],
            "type": "heatmap"
           }
          ],
          "heatmapgl": [
           {
            "colorbar": {
             "outlinewidth": 0,
             "ticks": ""
            },
            "colorscale": [
             [
              0,
              "#0d0887"
             ],
             [
              0.1111111111111111,
              "#46039f"
             ],
             [
              0.2222222222222222,
              "#7201a8"
             ],
             [
              0.3333333333333333,
              "#9c179e"
             ],
             [
              0.4444444444444444,
              "#bd3786"
             ],
             [
              0.5555555555555556,
              "#d8576b"
             ],
             [
              0.6666666666666666,
              "#ed7953"
             ],
             [
              0.7777777777777778,
              "#fb9f3a"
             ],
             [
              0.8888888888888888,
              "#fdca26"
             ],
             [
              1,
              "#f0f921"
             ]
            ],
            "type": "heatmapgl"
           }
          ],
          "histogram": [
           {
            "marker": {
             "pattern": {
              "fillmode": "overlay",
              "size": 10,
              "solidity": 0.2
             }
            },
            "type": "histogram"
           }
          ],
          "histogram2d": [
           {
            "colorbar": {
             "outlinewidth": 0,
             "ticks": ""
            },
            "colorscale": [
             [
              0,
              "#0d0887"
             ],
             [
              0.1111111111111111,
              "#46039f"
             ],
             [
              0.2222222222222222,
              "#7201a8"
             ],
             [
              0.3333333333333333,
              "#9c179e"
             ],
             [
              0.4444444444444444,
              "#bd3786"
             ],
             [
              0.5555555555555556,
              "#d8576b"
             ],
             [
              0.6666666666666666,
              "#ed7953"
             ],
             [
              0.7777777777777778,
              "#fb9f3a"
             ],
             [
              0.8888888888888888,
              "#fdca26"
             ],
             [
              1,
              "#f0f921"
             ]
            ],
            "type": "histogram2d"
           }
          ],
          "histogram2dcontour": [
           {
            "colorbar": {
             "outlinewidth": 0,
             "ticks": ""
            },
            "colorscale": [
             [
              0,
              "#0d0887"
             ],
             [
              0.1111111111111111,
              "#46039f"
             ],
             [
              0.2222222222222222,
              "#7201a8"
             ],
             [
              0.3333333333333333,
              "#9c179e"
             ],
             [
              0.4444444444444444,
              "#bd3786"
             ],
             [
              0.5555555555555556,
              "#d8576b"
             ],
             [
              0.6666666666666666,
              "#ed7953"
             ],
             [
              0.7777777777777778,
              "#fb9f3a"
             ],
             [
              0.8888888888888888,
              "#fdca26"
             ],
             [
              1,
              "#f0f921"
             ]
            ],
            "type": "histogram2dcontour"
           }
          ],
          "mesh3d": [
           {
            "colorbar": {
             "outlinewidth": 0,
             "ticks": ""
            },
            "type": "mesh3d"
           }
          ],
          "parcoords": [
           {
            "line": {
             "colorbar": {
              "outlinewidth": 0,
              "ticks": ""
             }
            },
            "type": "parcoords"
           }
          ],
          "pie": [
           {
            "automargin": true,
            "type": "pie"
           }
          ],
          "scatter": [
           {
            "fillpattern": {
             "fillmode": "overlay",
             "size": 10,
             "solidity": 0.2
            },
            "type": "scatter"
           }
          ],
          "scatter3d": [
           {
            "line": {
             "colorbar": {
              "outlinewidth": 0,
              "ticks": ""
             }
            },
            "marker": {
             "colorbar": {
              "outlinewidth": 0,
              "ticks": ""
             }
            },
            "type": "scatter3d"
           }
          ],
          "scattercarpet": [
           {
            "marker": {
             "colorbar": {
              "outlinewidth": 0,
              "ticks": ""
             }
            },
            "type": "scattercarpet"
           }
          ],
          "scattergeo": [
           {
            "marker": {
             "colorbar": {
              "outlinewidth": 0,
              "ticks": ""
             }
            },
            "type": "scattergeo"
           }
          ],
          "scattergl": [
           {
            "marker": {
             "colorbar": {
              "outlinewidth": 0,
              "ticks": ""
             }
            },
            "type": "scattergl"
           }
          ],
          "scattermapbox": [
           {
            "marker": {
             "colorbar": {
              "outlinewidth": 0,
              "ticks": ""
             }
            },
            "type": "scattermapbox"
           }
          ],
          "scatterpolar": [
           {
            "marker": {
             "colorbar": {
              "outlinewidth": 0,
              "ticks": ""
             }
            },
            "type": "scatterpolar"
           }
          ],
          "scatterpolargl": [
           {
            "marker": {
             "colorbar": {
              "outlinewidth": 0,
              "ticks": ""
             }
            },
            "type": "scatterpolargl"
           }
          ],
          "scatterternary": [
           {
            "marker": {
             "colorbar": {
              "outlinewidth": 0,
              "ticks": ""
             }
            },
            "type": "scatterternary"
           }
          ],
          "surface": [
           {
            "colorbar": {
             "outlinewidth": 0,
             "ticks": ""
            },
            "colorscale": [
             [
              0,
              "#0d0887"
             ],
             [
              0.1111111111111111,
              "#46039f"
             ],
             [
              0.2222222222222222,
              "#7201a8"
             ],
             [
              0.3333333333333333,
              "#9c179e"
             ],
             [
              0.4444444444444444,
              "#bd3786"
             ],
             [
              0.5555555555555556,
              "#d8576b"
             ],
             [
              0.6666666666666666,
              "#ed7953"
             ],
             [
              0.7777777777777778,
              "#fb9f3a"
             ],
             [
              0.8888888888888888,
              "#fdca26"
             ],
             [
              1,
              "#f0f921"
             ]
            ],
            "type": "surface"
           }
          ],
          "table": [
           {
            "cells": {
             "fill": {
              "color": "#EBF0F8"
             },
             "line": {
              "color": "white"
             }
            },
            "header": {
             "fill": {
              "color": "#C8D4E3"
             },
             "line": {
              "color": "white"
             }
            },
            "type": "table"
           }
          ]
         },
         "layout": {
          "annotationdefaults": {
           "arrowcolor": "#2a3f5f",
           "arrowhead": 0,
           "arrowwidth": 1
          },
          "autotypenumbers": "strict",
          "coloraxis": {
           "colorbar": {
            "outlinewidth": 0,
            "ticks": ""
           }
          },
          "colorscale": {
           "diverging": [
            [
             0,
             "#8e0152"
            ],
            [
             0.1,
             "#c51b7d"
            ],
            [
             0.2,
             "#de77ae"
            ],
            [
             0.3,
             "#f1b6da"
            ],
            [
             0.4,
             "#fde0ef"
            ],
            [
             0.5,
             "#f7f7f7"
            ],
            [
             0.6,
             "#e6f5d0"
            ],
            [
             0.7,
             "#b8e186"
            ],
            [
             0.8,
             "#7fbc41"
            ],
            [
             0.9,
             "#4d9221"
            ],
            [
             1,
             "#276419"
            ]
           ],
           "sequential": [
            [
             0,
             "#0d0887"
            ],
            [
             0.1111111111111111,
             "#46039f"
            ],
            [
             0.2222222222222222,
             "#7201a8"
            ],
            [
             0.3333333333333333,
             "#9c179e"
            ],
            [
             0.4444444444444444,
             "#bd3786"
            ],
            [
             0.5555555555555556,
             "#d8576b"
            ],
            [
             0.6666666666666666,
             "#ed7953"
            ],
            [
             0.7777777777777778,
             "#fb9f3a"
            ],
            [
             0.8888888888888888,
             "#fdca26"
            ],
            [
             1,
             "#f0f921"
            ]
           ],
           "sequentialminus": [
            [
             0,
             "#0d0887"
            ],
            [
             0.1111111111111111,
             "#46039f"
            ],
            [
             0.2222222222222222,
             "#7201a8"
            ],
            [
             0.3333333333333333,
             "#9c179e"
            ],
            [
             0.4444444444444444,
             "#bd3786"
            ],
            [
             0.5555555555555556,
             "#d8576b"
            ],
            [
             0.6666666666666666,
             "#ed7953"
            ],
            [
             0.7777777777777778,
             "#fb9f3a"
            ],
            [
             0.8888888888888888,
             "#fdca26"
            ],
            [
             1,
             "#f0f921"
            ]
           ]
          },
          "colorway": [
           "#636efa",
           "#EF553B",
           "#00cc96",
           "#ab63fa",
           "#FFA15A",
           "#19d3f3",
           "#FF6692",
           "#B6E880",
           "#FF97FF",
           "#FECB52"
          ],
          "font": {
           "color": "#2a3f5f"
          },
          "geo": {
           "bgcolor": "white",
           "lakecolor": "white",
           "landcolor": "#E5ECF6",
           "showlakes": true,
           "showland": true,
           "subunitcolor": "white"
          },
          "hoverlabel": {
           "align": "left"
          },
          "hovermode": "closest",
          "mapbox": {
           "style": "light"
          },
          "paper_bgcolor": "white",
          "plot_bgcolor": "#E5ECF6",
          "polar": {
           "angularaxis": {
            "gridcolor": "white",
            "linecolor": "white",
            "ticks": ""
           },
           "bgcolor": "#E5ECF6",
           "radialaxis": {
            "gridcolor": "white",
            "linecolor": "white",
            "ticks": ""
           }
          },
          "scene": {
           "xaxis": {
            "backgroundcolor": "#E5ECF6",
            "gridcolor": "white",
            "gridwidth": 2,
            "linecolor": "white",
            "showbackground": true,
            "ticks": "",
            "zerolinecolor": "white"
           },
           "yaxis": {
            "backgroundcolor": "#E5ECF6",
            "gridcolor": "white",
            "gridwidth": 2,
            "linecolor": "white",
            "showbackground": true,
            "ticks": "",
            "zerolinecolor": "white"
           },
           "zaxis": {
            "backgroundcolor": "#E5ECF6",
            "gridcolor": "white",
            "gridwidth": 2,
            "linecolor": "white",
            "showbackground": true,
            "ticks": "",
            "zerolinecolor": "white"
           }
          },
          "shapedefaults": {
           "line": {
            "color": "#2a3f5f"
           }
          },
          "ternary": {
           "aaxis": {
            "gridcolor": "white",
            "linecolor": "white",
            "ticks": ""
           },
           "baxis": {
            "gridcolor": "white",
            "linecolor": "white",
            "ticks": ""
           },
           "bgcolor": "#E5ECF6",
           "caxis": {
            "gridcolor": "white",
            "linecolor": "white",
            "ticks": ""
           }
          },
          "title": {
           "x": 0.05
          },
          "xaxis": {
           "automargin": true,
           "gridcolor": "white",
           "linecolor": "white",
           "ticks": "",
           "title": {
            "standoff": 15
           },
           "zerolinecolor": "white",
           "zerolinewidth": 2
          },
          "yaxis": {
           "automargin": true,
           "gridcolor": "white",
           "linecolor": "white",
           "ticks": "",
           "title": {
            "standoff": 15
           },
           "zerolinecolor": "white",
           "zerolinewidth": 2
          }
         }
        },
        "title": {
         "text": "Deposits by Address:Bean_3crv"
        }
       }
      },
      "text/html": [
       "<div>                            <div id=\"4246207b-dace-40f8-842e-d08615e24044\" class=\"plotly-graph-div\" style=\"height:525px; width:100%;\"></div>            <script type=\"text/javascript\">                require([\"plotly\"], function(Plotly) {                    window.PLOTLYENV=window.PLOTLYENV || {};                                    if (document.getElementById(\"4246207b-dace-40f8-842e-d08615e24044\")) {                    Plotly.newPlot(                        \"4246207b-dace-40f8-842e-d08615e24044\",                        [{\"domain\":{\"x\":[0.0,1.0],\"y\":[0.0,1.0]},\"hovertemplate\":\"labels=%{label}<br>amount=%{value}<extra></extra>\",\"labels\":[\"other\",\"0x4c180462a051ab67d8237ede2c987590df2fbbe6\",\"0x7e88276d8d638426f4cb3b4bbb5a9bf42c24075a\",\"0x36998db3f9d958f0ebaef7b0b6bf11f3441b216f\",\"0xa92ab746eac03e5ec31cd3a879014a7d1e04640c\",\"0x1b7ea7d42c476a1e2808f23e18d850c5a4692df7\",\"0x1348ea8e35236aa0769b91ae291e7291117bf15c\",\"0x58737a9b0a8a5c8a2559c457fcc9e923f9d99fb7\",\"0x4cc19a7a359f2ff54ff087f03b6887f436f08c11\",\"0xd6f2bea66fcba0b9f426e185f3c98f6585c746d3\",\"0xf7a7ae64cf9e9dd26fd2530a9b6fc571a31e75a1\"],\"legendgroup\":\"\",\"name\":\"\",\"showlegend\":true,\"values\":[4.02309394118171e+16,3.0429228515720056e+16,2.626037732261057e+16,2.544156577418942e+16,1.4656008229962904e+16,9309000423972316.0,7994592793874502.0,7403558081943724.0,5716311595742947.0,5409822751885722.0,5011475146147294.0],\"type\":\"pie\"}],                        {\"template\":{\"data\":{\"histogram2dcontour\":[{\"type\":\"histogram2dcontour\",\"colorbar\":{\"outlinewidth\":0,\"ticks\":\"\"},\"colorscale\":[[0.0,\"#0d0887\"],[0.1111111111111111,\"#46039f\"],[0.2222222222222222,\"#7201a8\"],[0.3333333333333333,\"#9c179e\"],[0.4444444444444444,\"#bd3786\"],[0.5555555555555556,\"#d8576b\"],[0.6666666666666666,\"#ed7953\"],[0.7777777777777778,\"#fb9f3a\"],[0.8888888888888888,\"#fdca26\"],[1.0,\"#f0f921\"]]}],\"choropleth\":[{\"type\":\"choropleth\",\"colorbar\":{\"outlinewidth\":0,\"ticks\":\"\"}}],\"histogram2d\":[{\"type\":\"histogram2d\",\"colorbar\":{\"outlinewidth\":0,\"ticks\":\"\"},\"colorscale\":[[0.0,\"#0d0887\"],[0.1111111111111111,\"#46039f\"],[0.2222222222222222,\"#7201a8\"],[0.3333333333333333,\"#9c179e\"],[0.4444444444444444,\"#bd3786\"],[0.5555555555555556,\"#d8576b\"],[0.6666666666666666,\"#ed7953\"],[0.7777777777777778,\"#fb9f3a\"],[0.8888888888888888,\"#fdca26\"],[1.0,\"#f0f921\"]]}],\"heatmap\":[{\"type\":\"heatmap\",\"colorbar\":{\"outlinewidth\":0,\"ticks\":\"\"},\"colorscale\":[[0.0,\"#0d0887\"],[0.1111111111111111,\"#46039f\"],[0.2222222222222222,\"#7201a8\"],[0.3333333333333333,\"#9c179e\"],[0.4444444444444444,\"#bd3786\"],[0.5555555555555556,\"#d8576b\"],[0.6666666666666666,\"#ed7953\"],[0.7777777777777778,\"#fb9f3a\"],[0.8888888888888888,\"#fdca26\"],[1.0,\"#f0f921\"]]}],\"heatmapgl\":[{\"type\":\"heatmapgl\",\"colorbar\":{\"outlinewidth\":0,\"ticks\":\"\"},\"colorscale\":[[0.0,\"#0d0887\"],[0.1111111111111111,\"#46039f\"],[0.2222222222222222,\"#7201a8\"],[0.3333333333333333,\"#9c179e\"],[0.4444444444444444,\"#bd3786\"],[0.5555555555555556,\"#d8576b\"],[0.6666666666666666,\"#ed7953\"],[0.7777777777777778,\"#fb9f3a\"],[0.8888888888888888,\"#fdca26\"],[1.0,\"#f0f921\"]]}],\"contourcarpet\":[{\"type\":\"contourcarpet\",\"colorbar\":{\"outlinewidth\":0,\"ticks\":\"\"}}],\"contour\":[{\"type\":\"contour\",\"colorbar\":{\"outlinewidth\":0,\"ticks\":\"\"},\"colorscale\":[[0.0,\"#0d0887\"],[0.1111111111111111,\"#46039f\"],[0.2222222222222222,\"#7201a8\"],[0.3333333333333333,\"#9c179e\"],[0.4444444444444444,\"#bd3786\"],[0.5555555555555556,\"#d8576b\"],[0.6666666666666666,\"#ed7953\"],[0.7777777777777778,\"#fb9f3a\"],[0.8888888888888888,\"#fdca26\"],[1.0,\"#f0f921\"]]}],\"surface\":[{\"type\":\"surface\",\"colorbar\":{\"outlinewidth\":0,\"ticks\":\"\"},\"colorscale\":[[0.0,\"#0d0887\"],[0.1111111111111111,\"#46039f\"],[0.2222222222222222,\"#7201a8\"],[0.3333333333333333,\"#9c179e\"],[0.4444444444444444,\"#bd3786\"],[0.5555555555555556,\"#d8576b\"],[0.6666666666666666,\"#ed7953\"],[0.7777777777777778,\"#fb9f3a\"],[0.8888888888888888,\"#fdca26\"],[1.0,\"#f0f921\"]]}],\"mesh3d\":[{\"type\":\"mesh3d\",\"colorbar\":{\"outlinewidth\":0,\"ticks\":\"\"}}],\"scatter\":[{\"fillpattern\":{\"fillmode\":\"overlay\",\"size\":10,\"solidity\":0.2},\"type\":\"scatter\"}],\"parcoords\":[{\"type\":\"parcoords\",\"line\":{\"colorbar\":{\"outlinewidth\":0,\"ticks\":\"\"}}}],\"scatterpolargl\":[{\"type\":\"scatterpolargl\",\"marker\":{\"colorbar\":{\"outlinewidth\":0,\"ticks\":\"\"}}}],\"bar\":[{\"error_x\":{\"color\":\"#2a3f5f\"},\"error_y\":{\"color\":\"#2a3f5f\"},\"marker\":{\"line\":{\"color\":\"#E5ECF6\",\"width\":0.5},\"pattern\":{\"fillmode\":\"overlay\",\"size\":10,\"solidity\":0.2}},\"type\":\"bar\"}],\"scattergeo\":[{\"type\":\"scattergeo\",\"marker\":{\"colorbar\":{\"outlinewidth\":0,\"ticks\":\"\"}}}],\"scatterpolar\":[{\"type\":\"scatterpolar\",\"marker\":{\"colorbar\":{\"outlinewidth\":0,\"ticks\":\"\"}}}],\"histogram\":[{\"marker\":{\"pattern\":{\"fillmode\":\"overlay\",\"size\":10,\"solidity\":0.2}},\"type\":\"histogram\"}],\"scattergl\":[{\"type\":\"scattergl\",\"marker\":{\"colorbar\":{\"outlinewidth\":0,\"ticks\":\"\"}}}],\"scatter3d\":[{\"type\":\"scatter3d\",\"line\":{\"colorbar\":{\"outlinewidth\":0,\"ticks\":\"\"}},\"marker\":{\"colorbar\":{\"outlinewidth\":0,\"ticks\":\"\"}}}],\"scattermapbox\":[{\"type\":\"scattermapbox\",\"marker\":{\"colorbar\":{\"outlinewidth\":0,\"ticks\":\"\"}}}],\"scatterternary\":[{\"type\":\"scatterternary\",\"marker\":{\"colorbar\":{\"outlinewidth\":0,\"ticks\":\"\"}}}],\"scattercarpet\":[{\"type\":\"scattercarpet\",\"marker\":{\"colorbar\":{\"outlinewidth\":0,\"ticks\":\"\"}}}],\"carpet\":[{\"aaxis\":{\"endlinecolor\":\"#2a3f5f\",\"gridcolor\":\"white\",\"linecolor\":\"white\",\"minorgridcolor\":\"white\",\"startlinecolor\":\"#2a3f5f\"},\"baxis\":{\"endlinecolor\":\"#2a3f5f\",\"gridcolor\":\"white\",\"linecolor\":\"white\",\"minorgridcolor\":\"white\",\"startlinecolor\":\"#2a3f5f\"},\"type\":\"carpet\"}],\"table\":[{\"cells\":{\"fill\":{\"color\":\"#EBF0F8\"},\"line\":{\"color\":\"white\"}},\"header\":{\"fill\":{\"color\":\"#C8D4E3\"},\"line\":{\"color\":\"white\"}},\"type\":\"table\"}],\"barpolar\":[{\"marker\":{\"line\":{\"color\":\"#E5ECF6\",\"width\":0.5},\"pattern\":{\"fillmode\":\"overlay\",\"size\":10,\"solidity\":0.2}},\"type\":\"barpolar\"}],\"pie\":[{\"automargin\":true,\"type\":\"pie\"}]},\"layout\":{\"autotypenumbers\":\"strict\",\"colorway\":[\"#636efa\",\"#EF553B\",\"#00cc96\",\"#ab63fa\",\"#FFA15A\",\"#19d3f3\",\"#FF6692\",\"#B6E880\",\"#FF97FF\",\"#FECB52\"],\"font\":{\"color\":\"#2a3f5f\"},\"hovermode\":\"closest\",\"hoverlabel\":{\"align\":\"left\"},\"paper_bgcolor\":\"white\",\"plot_bgcolor\":\"#E5ECF6\",\"polar\":{\"bgcolor\":\"#E5ECF6\",\"angularaxis\":{\"gridcolor\":\"white\",\"linecolor\":\"white\",\"ticks\":\"\"},\"radialaxis\":{\"gridcolor\":\"white\",\"linecolor\":\"white\",\"ticks\":\"\"}},\"ternary\":{\"bgcolor\":\"#E5ECF6\",\"aaxis\":{\"gridcolor\":\"white\",\"linecolor\":\"white\",\"ticks\":\"\"},\"baxis\":{\"gridcolor\":\"white\",\"linecolor\":\"white\",\"ticks\":\"\"},\"caxis\":{\"gridcolor\":\"white\",\"linecolor\":\"white\",\"ticks\":\"\"}},\"coloraxis\":{\"colorbar\":{\"outlinewidth\":0,\"ticks\":\"\"}},\"colorscale\":{\"sequential\":[[0.0,\"#0d0887\"],[0.1111111111111111,\"#46039f\"],[0.2222222222222222,\"#7201a8\"],[0.3333333333333333,\"#9c179e\"],[0.4444444444444444,\"#bd3786\"],[0.5555555555555556,\"#d8576b\"],[0.6666666666666666,\"#ed7953\"],[0.7777777777777778,\"#fb9f3a\"],[0.8888888888888888,\"#fdca26\"],[1.0,\"#f0f921\"]],\"sequentialminus\":[[0.0,\"#0d0887\"],[0.1111111111111111,\"#46039f\"],[0.2222222222222222,\"#7201a8\"],[0.3333333333333333,\"#9c179e\"],[0.4444444444444444,\"#bd3786\"],[0.5555555555555556,\"#d8576b\"],[0.6666666666666666,\"#ed7953\"],[0.7777777777777778,\"#fb9f3a\"],[0.8888888888888888,\"#fdca26\"],[1.0,\"#f0f921\"]],\"diverging\":[[0,\"#8e0152\"],[0.1,\"#c51b7d\"],[0.2,\"#de77ae\"],[0.3,\"#f1b6da\"],[0.4,\"#fde0ef\"],[0.5,\"#f7f7f7\"],[0.6,\"#e6f5d0\"],[0.7,\"#b8e186\"],[0.8,\"#7fbc41\"],[0.9,\"#4d9221\"],[1,\"#276419\"]]},\"xaxis\":{\"gridcolor\":\"white\",\"linecolor\":\"white\",\"ticks\":\"\",\"title\":{\"standoff\":15},\"zerolinecolor\":\"white\",\"automargin\":true,\"zerolinewidth\":2},\"yaxis\":{\"gridcolor\":\"white\",\"linecolor\":\"white\",\"ticks\":\"\",\"title\":{\"standoff\":15},\"zerolinecolor\":\"white\",\"automargin\":true,\"zerolinewidth\":2},\"scene\":{\"xaxis\":{\"backgroundcolor\":\"#E5ECF6\",\"gridcolor\":\"white\",\"linecolor\":\"white\",\"showbackground\":true,\"ticks\":\"\",\"zerolinecolor\":\"white\",\"gridwidth\":2},\"yaxis\":{\"backgroundcolor\":\"#E5ECF6\",\"gridcolor\":\"white\",\"linecolor\":\"white\",\"showbackground\":true,\"ticks\":\"\",\"zerolinecolor\":\"white\",\"gridwidth\":2},\"zaxis\":{\"backgroundcolor\":\"#E5ECF6\",\"gridcolor\":\"white\",\"linecolor\":\"white\",\"showbackground\":true,\"ticks\":\"\",\"zerolinecolor\":\"white\",\"gridwidth\":2}},\"shapedefaults\":{\"line\":{\"color\":\"#2a3f5f\"}},\"annotationdefaults\":{\"arrowcolor\":\"#2a3f5f\",\"arrowhead\":0,\"arrowwidth\":1},\"geo\":{\"bgcolor\":\"white\",\"landcolor\":\"#E5ECF6\",\"subunitcolor\":\"white\",\"showland\":true,\"showlakes\":true,\"lakecolor\":\"white\"},\"title\":{\"x\":0.05},\"mapbox\":{\"style\":\"light\"}}},\"legend\":{\"tracegroupgap\":0},\"title\":{\"text\":\"Deposits by Address:Bean_3crv\"}},                        {\"responsive\": true}                    ).then(function(){\n",
       "                            \n",
       "var gd = document.getElementById('4246207b-dace-40f8-842e-d08615e24044');\n",
       "var x = new MutationObserver(function (mutations, observer) {{\n",
       "        var display = window.getComputedStyle(gd).display;\n",
       "        if (!display || display === 'none') {{\n",
       "            console.log([gd, 'removed!']);\n",
       "            Plotly.purge(gd);\n",
       "            observer.disconnect();\n",
       "        }}\n",
       "}});\n",
       "\n",
       "// Listen for the removal of the full notebook cells\n",
       "var notebookContainer = gd.closest('#notebook-container');\n",
       "if (notebookContainer) {{\n",
       "    x.observe(notebookContainer, {childList: true});\n",
       "}}\n",
       "\n",
       "// Listen for the clearing of the current output cell\n",
       "var outputEl = gd.closest('.output');\n",
       "if (outputEl) {{\n",
       "    x.observe(outputEl, {childList: true});\n",
       "}}\n",
       "\n",
       "                        })                };                });            </script>        </div>"
      ]
     },
     "metadata": {},
     "output_type": "display_data"
    },
    {
     "data": {
      "application/vnd.plotly.v1+json": {
       "config": {
        "plotlyServerURL": "https://plot.ly"
       },
       "data": [
        {
         "domain": {
          "x": [
           0,
           1
          ],
          "y": [
           0,
           1
          ]
         },
         "hovertemplate": "labels=%{label}<br>amount=%{value}<extra></extra>",
         "labels": [
          "other",
          "0x4135deb17102aeeda09f5748186a1aa5060b3bbb",
          "0xaf812e8babab3173edce179fe6fc6c2b1c482e39",
          "0x4a24e54a090b0fa060f7faaf561510775d314e84",
          "0x60e8b62c7da32ff62fcd4ab934b75d2d28fe7501",
          "0xacc53f19851ce116d52b730aee8772f7bd568821",
          "0xf1a621fe077e4e9ac2c0cefd9b69551db9c3f657",
          "0x8d9261369e3bfba715f63303236c324d2e3c44ec",
          "0x83c9ec651027e061bcc39485c1fb369297bd428c",
          "0xe1d86a7088d05398a2b9ba566be0b3c5ffa5d9af"
         ],
         "legendgroup": "",
         "name": "",
         "showlegend": true,
         "type": "pie",
         "values": [
          6473400.02,
          1269731.34,
          1092523.72,
          771660.14,
          727735.68,
          648942.89,
          590177.48,
          534455.4299999999,
          481147.44,
          400103.82
         ]
        }
       ],
       "layout": {
        "legend": {
         "tracegroupgap": 0
        },
        "template": {
         "data": {
          "bar": [
           {
            "error_x": {
             "color": "#2a3f5f"
            },
            "error_y": {
             "color": "#2a3f5f"
            },
            "marker": {
             "line": {
              "color": "#E5ECF6",
              "width": 0.5
             },
             "pattern": {
              "fillmode": "overlay",
              "size": 10,
              "solidity": 0.2
             }
            },
            "type": "bar"
           }
          ],
          "barpolar": [
           {
            "marker": {
             "line": {
              "color": "#E5ECF6",
              "width": 0.5
             },
             "pattern": {
              "fillmode": "overlay",
              "size": 10,
              "solidity": 0.2
             }
            },
            "type": "barpolar"
           }
          ],
          "carpet": [
           {
            "aaxis": {
             "endlinecolor": "#2a3f5f",
             "gridcolor": "white",
             "linecolor": "white",
             "minorgridcolor": "white",
             "startlinecolor": "#2a3f5f"
            },
            "baxis": {
             "endlinecolor": "#2a3f5f",
             "gridcolor": "white",
             "linecolor": "white",
             "minorgridcolor": "white",
             "startlinecolor": "#2a3f5f"
            },
            "type": "carpet"
           }
          ],
          "choropleth": [
           {
            "colorbar": {
             "outlinewidth": 0,
             "ticks": ""
            },
            "type": "choropleth"
           }
          ],
          "contour": [
           {
            "colorbar": {
             "outlinewidth": 0,
             "ticks": ""
            },
            "colorscale": [
             [
              0,
              "#0d0887"
             ],
             [
              0.1111111111111111,
              "#46039f"
             ],
             [
              0.2222222222222222,
              "#7201a8"
             ],
             [
              0.3333333333333333,
              "#9c179e"
             ],
             [
              0.4444444444444444,
              "#bd3786"
             ],
             [
              0.5555555555555556,
              "#d8576b"
             ],
             [
              0.6666666666666666,
              "#ed7953"
             ],
             [
              0.7777777777777778,
              "#fb9f3a"
             ],
             [
              0.8888888888888888,
              "#fdca26"
             ],
             [
              1,
              "#f0f921"
             ]
            ],
            "type": "contour"
           }
          ],
          "contourcarpet": [
           {
            "colorbar": {
             "outlinewidth": 0,
             "ticks": ""
            },
            "type": "contourcarpet"
           }
          ],
          "heatmap": [
           {
            "colorbar": {
             "outlinewidth": 0,
             "ticks": ""
            },
            "colorscale": [
             [
              0,
              "#0d0887"
             ],
             [
              0.1111111111111111,
              "#46039f"
             ],
             [
              0.2222222222222222,
              "#7201a8"
             ],
             [
              0.3333333333333333,
              "#9c179e"
             ],
             [
              0.4444444444444444,
              "#bd3786"
             ],
             [
              0.5555555555555556,
              "#d8576b"
             ],
             [
              0.6666666666666666,
              "#ed7953"
             ],
             [
              0.7777777777777778,
              "#fb9f3a"
             ],
             [
              0.8888888888888888,
              "#fdca26"
             ],
             [
              1,
              "#f0f921"
             ]
            ],
            "type": "heatmap"
           }
          ],
          "heatmapgl": [
           {
            "colorbar": {
             "outlinewidth": 0,
             "ticks": ""
            },
            "colorscale": [
             [
              0,
              "#0d0887"
             ],
             [
              0.1111111111111111,
              "#46039f"
             ],
             [
              0.2222222222222222,
              "#7201a8"
             ],
             [
              0.3333333333333333,
              "#9c179e"
             ],
             [
              0.4444444444444444,
              "#bd3786"
             ],
             [
              0.5555555555555556,
              "#d8576b"
             ],
             [
              0.6666666666666666,
              "#ed7953"
             ],
             [
              0.7777777777777778,
              "#fb9f3a"
             ],
             [
              0.8888888888888888,
              "#fdca26"
             ],
             [
              1,
              "#f0f921"
             ]
            ],
            "type": "heatmapgl"
           }
          ],
          "histogram": [
           {
            "marker": {
             "pattern": {
              "fillmode": "overlay",
              "size": 10,
              "solidity": 0.2
             }
            },
            "type": "histogram"
           }
          ],
          "histogram2d": [
           {
            "colorbar": {
             "outlinewidth": 0,
             "ticks": ""
            },
            "colorscale": [
             [
              0,
              "#0d0887"
             ],
             [
              0.1111111111111111,
              "#46039f"
             ],
             [
              0.2222222222222222,
              "#7201a8"
             ],
             [
              0.3333333333333333,
              "#9c179e"
             ],
             [
              0.4444444444444444,
              "#bd3786"
             ],
             [
              0.5555555555555556,
              "#d8576b"
             ],
             [
              0.6666666666666666,
              "#ed7953"
             ],
             [
              0.7777777777777778,
              "#fb9f3a"
             ],
             [
              0.8888888888888888,
              "#fdca26"
             ],
             [
              1,
              "#f0f921"
             ]
            ],
            "type": "histogram2d"
           }
          ],
          "histogram2dcontour": [
           {
            "colorbar": {
             "outlinewidth": 0,
             "ticks": ""
            },
            "colorscale": [
             [
              0,
              "#0d0887"
             ],
             [
              0.1111111111111111,
              "#46039f"
             ],
             [
              0.2222222222222222,
              "#7201a8"
             ],
             [
              0.3333333333333333,
              "#9c179e"
             ],
             [
              0.4444444444444444,
              "#bd3786"
             ],
             [
              0.5555555555555556,
              "#d8576b"
             ],
             [
              0.6666666666666666,
              "#ed7953"
             ],
             [
              0.7777777777777778,
              "#fb9f3a"
             ],
             [
              0.8888888888888888,
              "#fdca26"
             ],
             [
              1,
              "#f0f921"
             ]
            ],
            "type": "histogram2dcontour"
           }
          ],
          "mesh3d": [
           {
            "colorbar": {
             "outlinewidth": 0,
             "ticks": ""
            },
            "type": "mesh3d"
           }
          ],
          "parcoords": [
           {
            "line": {
             "colorbar": {
              "outlinewidth": 0,
              "ticks": ""
             }
            },
            "type": "parcoords"
           }
          ],
          "pie": [
           {
            "automargin": true,
            "type": "pie"
           }
          ],
          "scatter": [
           {
            "fillpattern": {
             "fillmode": "overlay",
             "size": 10,
             "solidity": 0.2
            },
            "type": "scatter"
           }
          ],
          "scatter3d": [
           {
            "line": {
             "colorbar": {
              "outlinewidth": 0,
              "ticks": ""
             }
            },
            "marker": {
             "colorbar": {
              "outlinewidth": 0,
              "ticks": ""
             }
            },
            "type": "scatter3d"
           }
          ],
          "scattercarpet": [
           {
            "marker": {
             "colorbar": {
              "outlinewidth": 0,
              "ticks": ""
             }
            },
            "type": "scattercarpet"
           }
          ],
          "scattergeo": [
           {
            "marker": {
             "colorbar": {
              "outlinewidth": 0,
              "ticks": ""
             }
            },
            "type": "scattergeo"
           }
          ],
          "scattergl": [
           {
            "marker": {
             "colorbar": {
              "outlinewidth": 0,
              "ticks": ""
             }
            },
            "type": "scattergl"
           }
          ],
          "scattermapbox": [
           {
            "marker": {
             "colorbar": {
              "outlinewidth": 0,
              "ticks": ""
             }
            },
            "type": "scattermapbox"
           }
          ],
          "scatterpolar": [
           {
            "marker": {
             "colorbar": {
              "outlinewidth": 0,
              "ticks": ""
             }
            },
            "type": "scatterpolar"
           }
          ],
          "scatterpolargl": [
           {
            "marker": {
             "colorbar": {
              "outlinewidth": 0,
              "ticks": ""
             }
            },
            "type": "scatterpolargl"
           }
          ],
          "scatterternary": [
           {
            "marker": {
             "colorbar": {
              "outlinewidth": 0,
              "ticks": ""
             }
            },
            "type": "scatterternary"
           }
          ],
          "surface": [
           {
            "colorbar": {
             "outlinewidth": 0,
             "ticks": ""
            },
            "colorscale": [
             [
              0,
              "#0d0887"
             ],
             [
              0.1111111111111111,
              "#46039f"
             ],
             [
              0.2222222222222222,
              "#7201a8"
             ],
             [
              0.3333333333333333,
              "#9c179e"
             ],
             [
              0.4444444444444444,
              "#bd3786"
             ],
             [
              0.5555555555555556,
              "#d8576b"
             ],
             [
              0.6666666666666666,
              "#ed7953"
             ],
             [
              0.7777777777777778,
              "#fb9f3a"
             ],
             [
              0.8888888888888888,
              "#fdca26"
             ],
             [
              1,
              "#f0f921"
             ]
            ],
            "type": "surface"
           }
          ],
          "table": [
           {
            "cells": {
             "fill": {
              "color": "#EBF0F8"
             },
             "line": {
              "color": "white"
             }
            },
            "header": {
             "fill": {
              "color": "#C8D4E3"
             },
             "line": {
              "color": "white"
             }
            },
            "type": "table"
           }
          ]
         },
         "layout": {
          "annotationdefaults": {
           "arrowcolor": "#2a3f5f",
           "arrowhead": 0,
           "arrowwidth": 1
          },
          "autotypenumbers": "strict",
          "coloraxis": {
           "colorbar": {
            "outlinewidth": 0,
            "ticks": ""
           }
          },
          "colorscale": {
           "diverging": [
            [
             0,
             "#8e0152"
            ],
            [
             0.1,
             "#c51b7d"
            ],
            [
             0.2,
             "#de77ae"
            ],
            [
             0.3,
             "#f1b6da"
            ],
            [
             0.4,
             "#fde0ef"
            ],
            [
             0.5,
             "#f7f7f7"
            ],
            [
             0.6,
             "#e6f5d0"
            ],
            [
             0.7,
             "#b8e186"
            ],
            [
             0.8,
             "#7fbc41"
            ],
            [
             0.9,
             "#4d9221"
            ],
            [
             1,
             "#276419"
            ]
           ],
           "sequential": [
            [
             0,
             "#0d0887"
            ],
            [
             0.1111111111111111,
             "#46039f"
            ],
            [
             0.2222222222222222,
             "#7201a8"
            ],
            [
             0.3333333333333333,
             "#9c179e"
            ],
            [
             0.4444444444444444,
             "#bd3786"
            ],
            [
             0.5555555555555556,
             "#d8576b"
            ],
            [
             0.6666666666666666,
             "#ed7953"
            ],
            [
             0.7777777777777778,
             "#fb9f3a"
            ],
            [
             0.8888888888888888,
             "#fdca26"
            ],
            [
             1,
             "#f0f921"
            ]
           ],
           "sequentialminus": [
            [
             0,
             "#0d0887"
            ],
            [
             0.1111111111111111,
             "#46039f"
            ],
            [
             0.2222222222222222,
             "#7201a8"
            ],
            [
             0.3333333333333333,
             "#9c179e"
            ],
            [
             0.4444444444444444,
             "#bd3786"
            ],
            [
             0.5555555555555556,
             "#d8576b"
            ],
            [
             0.6666666666666666,
             "#ed7953"
            ],
            [
             0.7777777777777778,
             "#fb9f3a"
            ],
            [
             0.8888888888888888,
             "#fdca26"
            ],
            [
             1,
             "#f0f921"
            ]
           ]
          },
          "colorway": [
           "#636efa",
           "#EF553B",
           "#00cc96",
           "#ab63fa",
           "#FFA15A",
           "#19d3f3",
           "#FF6692",
           "#B6E880",
           "#FF97FF",
           "#FECB52"
          ],
          "font": {
           "color": "#2a3f5f"
          },
          "geo": {
           "bgcolor": "white",
           "lakecolor": "white",
           "landcolor": "#E5ECF6",
           "showlakes": true,
           "showland": true,
           "subunitcolor": "white"
          },
          "hoverlabel": {
           "align": "left"
          },
          "hovermode": "closest",
          "mapbox": {
           "style": "light"
          },
          "paper_bgcolor": "white",
          "plot_bgcolor": "#E5ECF6",
          "polar": {
           "angularaxis": {
            "gridcolor": "white",
            "linecolor": "white",
            "ticks": ""
           },
           "bgcolor": "#E5ECF6",
           "radialaxis": {
            "gridcolor": "white",
            "linecolor": "white",
            "ticks": ""
           }
          },
          "scene": {
           "xaxis": {
            "backgroundcolor": "#E5ECF6",
            "gridcolor": "white",
            "gridwidth": 2,
            "linecolor": "white",
            "showbackground": true,
            "ticks": "",
            "zerolinecolor": "white"
           },
           "yaxis": {
            "backgroundcolor": "#E5ECF6",
            "gridcolor": "white",
            "gridwidth": 2,
            "linecolor": "white",
            "showbackground": true,
            "ticks": "",
            "zerolinecolor": "white"
           },
           "zaxis": {
            "backgroundcolor": "#E5ECF6",
            "gridcolor": "white",
            "gridwidth": 2,
            "linecolor": "white",
            "showbackground": true,
            "ticks": "",
            "zerolinecolor": "white"
           }
          },
          "shapedefaults": {
           "line": {
            "color": "#2a3f5f"
           }
          },
          "ternary": {
           "aaxis": {
            "gridcolor": "white",
            "linecolor": "white",
            "ticks": ""
           },
           "baxis": {
            "gridcolor": "white",
            "linecolor": "white",
            "ticks": ""
           },
           "bgcolor": "#E5ECF6",
           "caxis": {
            "gridcolor": "white",
            "linecolor": "white",
            "ticks": ""
           }
          },
          "title": {
           "x": 0.05
          },
          "xaxis": {
           "automargin": true,
           "gridcolor": "white",
           "linecolor": "white",
           "ticks": "",
           "title": {
            "standoff": 15
           },
           "zerolinecolor": "white",
           "zerolinewidth": 2
          },
          "yaxis": {
           "automargin": true,
           "gridcolor": "white",
           "linecolor": "white",
           "ticks": "",
           "title": {
            "standoff": 15
           },
           "zerolinecolor": "white",
           "zerolinewidth": 2
          }
         }
        },
        "title": {
         "text": "Deposits by Address:Ur_bean"
        }
       }
      },
      "text/html": [
       "<div>                            <div id=\"a6e5943e-15ba-4ba3-b7d2-e2e956cae63a\" class=\"plotly-graph-div\" style=\"height:525px; width:100%;\"></div>            <script type=\"text/javascript\">                require([\"plotly\"], function(Plotly) {                    window.PLOTLYENV=window.PLOTLYENV || {};                                    if (document.getElementById(\"a6e5943e-15ba-4ba3-b7d2-e2e956cae63a\")) {                    Plotly.newPlot(                        \"a6e5943e-15ba-4ba3-b7d2-e2e956cae63a\",                        [{\"domain\":{\"x\":[0.0,1.0],\"y\":[0.0,1.0]},\"hovertemplate\":\"labels=%{label}<br>amount=%{value}<extra></extra>\",\"labels\":[\"other\",\"0x4135deb17102aeeda09f5748186a1aa5060b3bbb\",\"0xaf812e8babab3173edce179fe6fc6c2b1c482e39\",\"0x4a24e54a090b0fa060f7faaf561510775d314e84\",\"0x60e8b62c7da32ff62fcd4ab934b75d2d28fe7501\",\"0xacc53f19851ce116d52b730aee8772f7bd568821\",\"0xf1a621fe077e4e9ac2c0cefd9b69551db9c3f657\",\"0x8d9261369e3bfba715f63303236c324d2e3c44ec\",\"0x83c9ec651027e061bcc39485c1fb369297bd428c\",\"0xe1d86a7088d05398a2b9ba566be0b3c5ffa5d9af\"],\"legendgroup\":\"\",\"name\":\"\",\"showlegend\":true,\"values\":[6473400.02,1269731.34,1092523.72,771660.14,727735.68,648942.89,590177.48,534455.4299999999,481147.44,400103.82],\"type\":\"pie\"}],                        {\"template\":{\"data\":{\"histogram2dcontour\":[{\"type\":\"histogram2dcontour\",\"colorbar\":{\"outlinewidth\":0,\"ticks\":\"\"},\"colorscale\":[[0.0,\"#0d0887\"],[0.1111111111111111,\"#46039f\"],[0.2222222222222222,\"#7201a8\"],[0.3333333333333333,\"#9c179e\"],[0.4444444444444444,\"#bd3786\"],[0.5555555555555556,\"#d8576b\"],[0.6666666666666666,\"#ed7953\"],[0.7777777777777778,\"#fb9f3a\"],[0.8888888888888888,\"#fdca26\"],[1.0,\"#f0f921\"]]}],\"choropleth\":[{\"type\":\"choropleth\",\"colorbar\":{\"outlinewidth\":0,\"ticks\":\"\"}}],\"histogram2d\":[{\"type\":\"histogram2d\",\"colorbar\":{\"outlinewidth\":0,\"ticks\":\"\"},\"colorscale\":[[0.0,\"#0d0887\"],[0.1111111111111111,\"#46039f\"],[0.2222222222222222,\"#7201a8\"],[0.3333333333333333,\"#9c179e\"],[0.4444444444444444,\"#bd3786\"],[0.5555555555555556,\"#d8576b\"],[0.6666666666666666,\"#ed7953\"],[0.7777777777777778,\"#fb9f3a\"],[0.8888888888888888,\"#fdca26\"],[1.0,\"#f0f921\"]]}],\"heatmap\":[{\"type\":\"heatmap\",\"colorbar\":{\"outlinewidth\":0,\"ticks\":\"\"},\"colorscale\":[[0.0,\"#0d0887\"],[0.1111111111111111,\"#46039f\"],[0.2222222222222222,\"#7201a8\"],[0.3333333333333333,\"#9c179e\"],[0.4444444444444444,\"#bd3786\"],[0.5555555555555556,\"#d8576b\"],[0.6666666666666666,\"#ed7953\"],[0.7777777777777778,\"#fb9f3a\"],[0.8888888888888888,\"#fdca26\"],[1.0,\"#f0f921\"]]}],\"heatmapgl\":[{\"type\":\"heatmapgl\",\"colorbar\":{\"outlinewidth\":0,\"ticks\":\"\"},\"colorscale\":[[0.0,\"#0d0887\"],[0.1111111111111111,\"#46039f\"],[0.2222222222222222,\"#7201a8\"],[0.3333333333333333,\"#9c179e\"],[0.4444444444444444,\"#bd3786\"],[0.5555555555555556,\"#d8576b\"],[0.6666666666666666,\"#ed7953\"],[0.7777777777777778,\"#fb9f3a\"],[0.8888888888888888,\"#fdca26\"],[1.0,\"#f0f921\"]]}],\"contourcarpet\":[{\"type\":\"contourcarpet\",\"colorbar\":{\"outlinewidth\":0,\"ticks\":\"\"}}],\"contour\":[{\"type\":\"contour\",\"colorbar\":{\"outlinewidth\":0,\"ticks\":\"\"},\"colorscale\":[[0.0,\"#0d0887\"],[0.1111111111111111,\"#46039f\"],[0.2222222222222222,\"#7201a8\"],[0.3333333333333333,\"#9c179e\"],[0.4444444444444444,\"#bd3786\"],[0.5555555555555556,\"#d8576b\"],[0.6666666666666666,\"#ed7953\"],[0.7777777777777778,\"#fb9f3a\"],[0.8888888888888888,\"#fdca26\"],[1.0,\"#f0f921\"]]}],\"surface\":[{\"type\":\"surface\",\"colorbar\":{\"outlinewidth\":0,\"ticks\":\"\"},\"colorscale\":[[0.0,\"#0d0887\"],[0.1111111111111111,\"#46039f\"],[0.2222222222222222,\"#7201a8\"],[0.3333333333333333,\"#9c179e\"],[0.4444444444444444,\"#bd3786\"],[0.5555555555555556,\"#d8576b\"],[0.6666666666666666,\"#ed7953\"],[0.7777777777777778,\"#fb9f3a\"],[0.8888888888888888,\"#fdca26\"],[1.0,\"#f0f921\"]]}],\"mesh3d\":[{\"type\":\"mesh3d\",\"colorbar\":{\"outlinewidth\":0,\"ticks\":\"\"}}],\"scatter\":[{\"fillpattern\":{\"fillmode\":\"overlay\",\"size\":10,\"solidity\":0.2},\"type\":\"scatter\"}],\"parcoords\":[{\"type\":\"parcoords\",\"line\":{\"colorbar\":{\"outlinewidth\":0,\"ticks\":\"\"}}}],\"scatterpolargl\":[{\"type\":\"scatterpolargl\",\"marker\":{\"colorbar\":{\"outlinewidth\":0,\"ticks\":\"\"}}}],\"bar\":[{\"error_x\":{\"color\":\"#2a3f5f\"},\"error_y\":{\"color\":\"#2a3f5f\"},\"marker\":{\"line\":{\"color\":\"#E5ECF6\",\"width\":0.5},\"pattern\":{\"fillmode\":\"overlay\",\"size\":10,\"solidity\":0.2}},\"type\":\"bar\"}],\"scattergeo\":[{\"type\":\"scattergeo\",\"marker\":{\"colorbar\":{\"outlinewidth\":0,\"ticks\":\"\"}}}],\"scatterpolar\":[{\"type\":\"scatterpolar\",\"marker\":{\"colorbar\":{\"outlinewidth\":0,\"ticks\":\"\"}}}],\"histogram\":[{\"marker\":{\"pattern\":{\"fillmode\":\"overlay\",\"size\":10,\"solidity\":0.2}},\"type\":\"histogram\"}],\"scattergl\":[{\"type\":\"scattergl\",\"marker\":{\"colorbar\":{\"outlinewidth\":0,\"ticks\":\"\"}}}],\"scatter3d\":[{\"type\":\"scatter3d\",\"line\":{\"colorbar\":{\"outlinewidth\":0,\"ticks\":\"\"}},\"marker\":{\"colorbar\":{\"outlinewidth\":0,\"ticks\":\"\"}}}],\"scattermapbox\":[{\"type\":\"scattermapbox\",\"marker\":{\"colorbar\":{\"outlinewidth\":0,\"ticks\":\"\"}}}],\"scatterternary\":[{\"type\":\"scatterternary\",\"marker\":{\"colorbar\":{\"outlinewidth\":0,\"ticks\":\"\"}}}],\"scattercarpet\":[{\"type\":\"scattercarpet\",\"marker\":{\"colorbar\":{\"outlinewidth\":0,\"ticks\":\"\"}}}],\"carpet\":[{\"aaxis\":{\"endlinecolor\":\"#2a3f5f\",\"gridcolor\":\"white\",\"linecolor\":\"white\",\"minorgridcolor\":\"white\",\"startlinecolor\":\"#2a3f5f\"},\"baxis\":{\"endlinecolor\":\"#2a3f5f\",\"gridcolor\":\"white\",\"linecolor\":\"white\",\"minorgridcolor\":\"white\",\"startlinecolor\":\"#2a3f5f\"},\"type\":\"carpet\"}],\"table\":[{\"cells\":{\"fill\":{\"color\":\"#EBF0F8\"},\"line\":{\"color\":\"white\"}},\"header\":{\"fill\":{\"color\":\"#C8D4E3\"},\"line\":{\"color\":\"white\"}},\"type\":\"table\"}],\"barpolar\":[{\"marker\":{\"line\":{\"color\":\"#E5ECF6\",\"width\":0.5},\"pattern\":{\"fillmode\":\"overlay\",\"size\":10,\"solidity\":0.2}},\"type\":\"barpolar\"}],\"pie\":[{\"automargin\":true,\"type\":\"pie\"}]},\"layout\":{\"autotypenumbers\":\"strict\",\"colorway\":[\"#636efa\",\"#EF553B\",\"#00cc96\",\"#ab63fa\",\"#FFA15A\",\"#19d3f3\",\"#FF6692\",\"#B6E880\",\"#FF97FF\",\"#FECB52\"],\"font\":{\"color\":\"#2a3f5f\"},\"hovermode\":\"closest\",\"hoverlabel\":{\"align\":\"left\"},\"paper_bgcolor\":\"white\",\"plot_bgcolor\":\"#E5ECF6\",\"polar\":{\"bgcolor\":\"#E5ECF6\",\"angularaxis\":{\"gridcolor\":\"white\",\"linecolor\":\"white\",\"ticks\":\"\"},\"radialaxis\":{\"gridcolor\":\"white\",\"linecolor\":\"white\",\"ticks\":\"\"}},\"ternary\":{\"bgcolor\":\"#E5ECF6\",\"aaxis\":{\"gridcolor\":\"white\",\"linecolor\":\"white\",\"ticks\":\"\"},\"baxis\":{\"gridcolor\":\"white\",\"linecolor\":\"white\",\"ticks\":\"\"},\"caxis\":{\"gridcolor\":\"white\",\"linecolor\":\"white\",\"ticks\":\"\"}},\"coloraxis\":{\"colorbar\":{\"outlinewidth\":0,\"ticks\":\"\"}},\"colorscale\":{\"sequential\":[[0.0,\"#0d0887\"],[0.1111111111111111,\"#46039f\"],[0.2222222222222222,\"#7201a8\"],[0.3333333333333333,\"#9c179e\"],[0.4444444444444444,\"#bd3786\"],[0.5555555555555556,\"#d8576b\"],[0.6666666666666666,\"#ed7953\"],[0.7777777777777778,\"#fb9f3a\"],[0.8888888888888888,\"#fdca26\"],[1.0,\"#f0f921\"]],\"sequentialminus\":[[0.0,\"#0d0887\"],[0.1111111111111111,\"#46039f\"],[0.2222222222222222,\"#7201a8\"],[0.3333333333333333,\"#9c179e\"],[0.4444444444444444,\"#bd3786\"],[0.5555555555555556,\"#d8576b\"],[0.6666666666666666,\"#ed7953\"],[0.7777777777777778,\"#fb9f3a\"],[0.8888888888888888,\"#fdca26\"],[1.0,\"#f0f921\"]],\"diverging\":[[0,\"#8e0152\"],[0.1,\"#c51b7d\"],[0.2,\"#de77ae\"],[0.3,\"#f1b6da\"],[0.4,\"#fde0ef\"],[0.5,\"#f7f7f7\"],[0.6,\"#e6f5d0\"],[0.7,\"#b8e186\"],[0.8,\"#7fbc41\"],[0.9,\"#4d9221\"],[1,\"#276419\"]]},\"xaxis\":{\"gridcolor\":\"white\",\"linecolor\":\"white\",\"ticks\":\"\",\"title\":{\"standoff\":15},\"zerolinecolor\":\"white\",\"automargin\":true,\"zerolinewidth\":2},\"yaxis\":{\"gridcolor\":\"white\",\"linecolor\":\"white\",\"ticks\":\"\",\"title\":{\"standoff\":15},\"zerolinecolor\":\"white\",\"automargin\":true,\"zerolinewidth\":2},\"scene\":{\"xaxis\":{\"backgroundcolor\":\"#E5ECF6\",\"gridcolor\":\"white\",\"linecolor\":\"white\",\"showbackground\":true,\"ticks\":\"\",\"zerolinecolor\":\"white\",\"gridwidth\":2},\"yaxis\":{\"backgroundcolor\":\"#E5ECF6\",\"gridcolor\":\"white\",\"linecolor\":\"white\",\"showbackground\":true,\"ticks\":\"\",\"zerolinecolor\":\"white\",\"gridwidth\":2},\"zaxis\":{\"backgroundcolor\":\"#E5ECF6\",\"gridcolor\":\"white\",\"linecolor\":\"white\",\"showbackground\":true,\"ticks\":\"\",\"zerolinecolor\":\"white\",\"gridwidth\":2}},\"shapedefaults\":{\"line\":{\"color\":\"#2a3f5f\"}},\"annotationdefaults\":{\"arrowcolor\":\"#2a3f5f\",\"arrowhead\":0,\"arrowwidth\":1},\"geo\":{\"bgcolor\":\"white\",\"landcolor\":\"#E5ECF6\",\"subunitcolor\":\"white\",\"showland\":true,\"showlakes\":true,\"lakecolor\":\"white\"},\"title\":{\"x\":0.05},\"mapbox\":{\"style\":\"light\"}}},\"legend\":{\"tracegroupgap\":0},\"title\":{\"text\":\"Deposits by Address:Ur_bean\"}},                        {\"responsive\": true}                    ).then(function(){\n",
       "                            \n",
       "var gd = document.getElementById('a6e5943e-15ba-4ba3-b7d2-e2e956cae63a');\n",
       "var x = new MutationObserver(function (mutations, observer) {{\n",
       "        var display = window.getComputedStyle(gd).display;\n",
       "        if (!display || display === 'none') {{\n",
       "            console.log([gd, 'removed!']);\n",
       "            Plotly.purge(gd);\n",
       "            observer.disconnect();\n",
       "        }}\n",
       "}});\n",
       "\n",
       "// Listen for the removal of the full notebook cells\n",
       "var notebookContainer = gd.closest('#notebook-container');\n",
       "if (notebookContainer) {{\n",
       "    x.observe(notebookContainer, {childList: true});\n",
       "}}\n",
       "\n",
       "// Listen for the clearing of the current output cell\n",
       "var outputEl = gd.closest('.output');\n",
       "if (outputEl) {{\n",
       "    x.observe(outputEl, {childList: true});\n",
       "}}\n",
       "\n",
       "                        })                };                });            </script>        </div>"
      ]
     },
     "metadata": {},
     "output_type": "display_data"
    },
    {
     "data": {
      "application/vnd.plotly.v1+json": {
       "config": {
        "plotlyServerURL": "https://plot.ly"
       },
       "data": [
        {
         "domain": {
          "x": [
           0,
           1
          ],
          "y": [
           0,
           1
          ]
         },
         "hovertemplate": "labels=%{label}<br>amount=%{value}<extra></extra>",
         "labels": [
          "other",
          "0xef764bac8a438e7e498c2e5fccf0f174c3e3f8db",
          "0xef49ffe2c1a6f64cfe18a26b3efe7d87830838c8",
          "0xa82240bb0291a8ef6e46a4f6b8abf4737b0b5257",
          "0x9664ca3827d81694aaf1b4c93891de770a9340cf",
          "0xc19cf05f28bd4fd58e427a60ec9416d73b6d6c57",
          "0x56a201b872b50bbdee0021ed4d1bb36359d291ed",
          "0x4c180462a051ab67d8237ede2c987590df2fbbe6",
          "0xde3e4d173f754704a763d39e1dcf0a90c37ec7f0",
          "0xf1a621fe077e4e9ac2c0cefd9b69551db9c3f657",
          "0x808995e68a45b4d5a1ba61429882b47011e96c79",
          "0x41dd131e460e18befd262cf4fe2e2b2f43f6fb7b",
          "0xf05b641229bb2aa63b205ad8b423a390f7ef05a7",
          "0xddfe74f671f6546f49a6d20909999cfe5f09ad78",
          "0x1dc2dc7110f8ee61650864ad6680fe8144b7d6f9",
          "0x9c52dc78bd84007bf63987806f0aeeece0ef14a6",
          "0xbbd2f625f2ecf6b55dc9de8ec7b538e30c799ac6",
          "0x52d3aba582a24eeb9c1210d83ec312487815f405",
          "0xf840aa35b73ee0bbf488d81d684706729aba0a15",
          "0xe693eb739c0be8c2bdd978c550b5d8b8022a8ada",
          "0x7cdfc314b89a851054a9acc324171bf8a31593e9",
          "0x6f9cee855cb1f362f31256c65e1709222e0f2037",
          "0x0f3a1e840f030617b7496194dc96bf9be1e54d59",
          "0x52ccff5c85314bbe4d9c019ee57e5b45ad08b0db",
          "0x305b0ecf72634825f7231058444c65d885e1f327"
         ],
         "legendgroup": "",
         "name": "",
         "showlegend": true,
         "type": "pie",
         "values": [
          24790236.29,
          4142820.27,
          3100071.44,
          2680031.59,
          2422257.67,
          1665085.65,
          1466652.15,
          1399624.1400000001,
          1152808.51,
          1087062.93,
          1019488.34,
          999999.99,
          991886.89,
          931112.0700000001,
          916664.27,
          709146.98,
          686939.29,
          685868.77,
          681969.13,
          679759.6200000001,
          658656.74,
          647494.47,
          644269.81,
          597473.9600000001,
          525067.25
         ]
        }
       ],
       "layout": {
        "legend": {
         "tracegroupgap": 0
        },
        "template": {
         "data": {
          "bar": [
           {
            "error_x": {
             "color": "#2a3f5f"
            },
            "error_y": {
             "color": "#2a3f5f"
            },
            "marker": {
             "line": {
              "color": "#E5ECF6",
              "width": 0.5
             },
             "pattern": {
              "fillmode": "overlay",
              "size": 10,
              "solidity": 0.2
             }
            },
            "type": "bar"
           }
          ],
          "barpolar": [
           {
            "marker": {
             "line": {
              "color": "#E5ECF6",
              "width": 0.5
             },
             "pattern": {
              "fillmode": "overlay",
              "size": 10,
              "solidity": 0.2
             }
            },
            "type": "barpolar"
           }
          ],
          "carpet": [
           {
            "aaxis": {
             "endlinecolor": "#2a3f5f",
             "gridcolor": "white",
             "linecolor": "white",
             "minorgridcolor": "white",
             "startlinecolor": "#2a3f5f"
            },
            "baxis": {
             "endlinecolor": "#2a3f5f",
             "gridcolor": "white",
             "linecolor": "white",
             "minorgridcolor": "white",
             "startlinecolor": "#2a3f5f"
            },
            "type": "carpet"
           }
          ],
          "choropleth": [
           {
            "colorbar": {
             "outlinewidth": 0,
             "ticks": ""
            },
            "type": "choropleth"
           }
          ],
          "contour": [
           {
            "colorbar": {
             "outlinewidth": 0,
             "ticks": ""
            },
            "colorscale": [
             [
              0,
              "#0d0887"
             ],
             [
              0.1111111111111111,
              "#46039f"
             ],
             [
              0.2222222222222222,
              "#7201a8"
             ],
             [
              0.3333333333333333,
              "#9c179e"
             ],
             [
              0.4444444444444444,
              "#bd3786"
             ],
             [
              0.5555555555555556,
              "#d8576b"
             ],
             [
              0.6666666666666666,
              "#ed7953"
             ],
             [
              0.7777777777777778,
              "#fb9f3a"
             ],
             [
              0.8888888888888888,
              "#fdca26"
             ],
             [
              1,
              "#f0f921"
             ]
            ],
            "type": "contour"
           }
          ],
          "contourcarpet": [
           {
            "colorbar": {
             "outlinewidth": 0,
             "ticks": ""
            },
            "type": "contourcarpet"
           }
          ],
          "heatmap": [
           {
            "colorbar": {
             "outlinewidth": 0,
             "ticks": ""
            },
            "colorscale": [
             [
              0,
              "#0d0887"
             ],
             [
              0.1111111111111111,
              "#46039f"
             ],
             [
              0.2222222222222222,
              "#7201a8"
             ],
             [
              0.3333333333333333,
              "#9c179e"
             ],
             [
              0.4444444444444444,
              "#bd3786"
             ],
             [
              0.5555555555555556,
              "#d8576b"
             ],
             [
              0.6666666666666666,
              "#ed7953"
             ],
             [
              0.7777777777777778,
              "#fb9f3a"
             ],
             [
              0.8888888888888888,
              "#fdca26"
             ],
             [
              1,
              "#f0f921"
             ]
            ],
            "type": "heatmap"
           }
          ],
          "heatmapgl": [
           {
            "colorbar": {
             "outlinewidth": 0,
             "ticks": ""
            },
            "colorscale": [
             [
              0,
              "#0d0887"
             ],
             [
              0.1111111111111111,
              "#46039f"
             ],
             [
              0.2222222222222222,
              "#7201a8"
             ],
             [
              0.3333333333333333,
              "#9c179e"
             ],
             [
              0.4444444444444444,
              "#bd3786"
             ],
             [
              0.5555555555555556,
              "#d8576b"
             ],
             [
              0.6666666666666666,
              "#ed7953"
             ],
             [
              0.7777777777777778,
              "#fb9f3a"
             ],
             [
              0.8888888888888888,
              "#fdca26"
             ],
             [
              1,
              "#f0f921"
             ]
            ],
            "type": "heatmapgl"
           }
          ],
          "histogram": [
           {
            "marker": {
             "pattern": {
              "fillmode": "overlay",
              "size": 10,
              "solidity": 0.2
             }
            },
            "type": "histogram"
           }
          ],
          "histogram2d": [
           {
            "colorbar": {
             "outlinewidth": 0,
             "ticks": ""
            },
            "colorscale": [
             [
              0,
              "#0d0887"
             ],
             [
              0.1111111111111111,
              "#46039f"
             ],
             [
              0.2222222222222222,
              "#7201a8"
             ],
             [
              0.3333333333333333,
              "#9c179e"
             ],
             [
              0.4444444444444444,
              "#bd3786"
             ],
             [
              0.5555555555555556,
              "#d8576b"
             ],
             [
              0.6666666666666666,
              "#ed7953"
             ],
             [
              0.7777777777777778,
              "#fb9f3a"
             ],
             [
              0.8888888888888888,
              "#fdca26"
             ],
             [
              1,
              "#f0f921"
             ]
            ],
            "type": "histogram2d"
           }
          ],
          "histogram2dcontour": [
           {
            "colorbar": {
             "outlinewidth": 0,
             "ticks": ""
            },
            "colorscale": [
             [
              0,
              "#0d0887"
             ],
             [
              0.1111111111111111,
              "#46039f"
             ],
             [
              0.2222222222222222,
              "#7201a8"
             ],
             [
              0.3333333333333333,
              "#9c179e"
             ],
             [
              0.4444444444444444,
              "#bd3786"
             ],
             [
              0.5555555555555556,
              "#d8576b"
             ],
             [
              0.6666666666666666,
              "#ed7953"
             ],
             [
              0.7777777777777778,
              "#fb9f3a"
             ],
             [
              0.8888888888888888,
              "#fdca26"
             ],
             [
              1,
              "#f0f921"
             ]
            ],
            "type": "histogram2dcontour"
           }
          ],
          "mesh3d": [
           {
            "colorbar": {
             "outlinewidth": 0,
             "ticks": ""
            },
            "type": "mesh3d"
           }
          ],
          "parcoords": [
           {
            "line": {
             "colorbar": {
              "outlinewidth": 0,
              "ticks": ""
             }
            },
            "type": "parcoords"
           }
          ],
          "pie": [
           {
            "automargin": true,
            "type": "pie"
           }
          ],
          "scatter": [
           {
            "fillpattern": {
             "fillmode": "overlay",
             "size": 10,
             "solidity": 0.2
            },
            "type": "scatter"
           }
          ],
          "scatter3d": [
           {
            "line": {
             "colorbar": {
              "outlinewidth": 0,
              "ticks": ""
             }
            },
            "marker": {
             "colorbar": {
              "outlinewidth": 0,
              "ticks": ""
             }
            },
            "type": "scatter3d"
           }
          ],
          "scattercarpet": [
           {
            "marker": {
             "colorbar": {
              "outlinewidth": 0,
              "ticks": ""
             }
            },
            "type": "scattercarpet"
           }
          ],
          "scattergeo": [
           {
            "marker": {
             "colorbar": {
              "outlinewidth": 0,
              "ticks": ""
             }
            },
            "type": "scattergeo"
           }
          ],
          "scattergl": [
           {
            "marker": {
             "colorbar": {
              "outlinewidth": 0,
              "ticks": ""
             }
            },
            "type": "scattergl"
           }
          ],
          "scattermapbox": [
           {
            "marker": {
             "colorbar": {
              "outlinewidth": 0,
              "ticks": ""
             }
            },
            "type": "scattermapbox"
           }
          ],
          "scatterpolar": [
           {
            "marker": {
             "colorbar": {
              "outlinewidth": 0,
              "ticks": ""
             }
            },
            "type": "scatterpolar"
           }
          ],
          "scatterpolargl": [
           {
            "marker": {
             "colorbar": {
              "outlinewidth": 0,
              "ticks": ""
             }
            },
            "type": "scatterpolargl"
           }
          ],
          "scatterternary": [
           {
            "marker": {
             "colorbar": {
              "outlinewidth": 0,
              "ticks": ""
             }
            },
            "type": "scatterternary"
           }
          ],
          "surface": [
           {
            "colorbar": {
             "outlinewidth": 0,
             "ticks": ""
            },
            "colorscale": [
             [
              0,
              "#0d0887"
             ],
             [
              0.1111111111111111,
              "#46039f"
             ],
             [
              0.2222222222222222,
              "#7201a8"
             ],
             [
              0.3333333333333333,
              "#9c179e"
             ],
             [
              0.4444444444444444,
              "#bd3786"
             ],
             [
              0.5555555555555556,
              "#d8576b"
             ],
             [
              0.6666666666666666,
              "#ed7953"
             ],
             [
              0.7777777777777778,
              "#fb9f3a"
             ],
             [
              0.8888888888888888,
              "#fdca26"
             ],
             [
              1,
              "#f0f921"
             ]
            ],
            "type": "surface"
           }
          ],
          "table": [
           {
            "cells": {
             "fill": {
              "color": "#EBF0F8"
             },
             "line": {
              "color": "white"
             }
            },
            "header": {
             "fill": {
              "color": "#C8D4E3"
             },
             "line": {
              "color": "white"
             }
            },
            "type": "table"
           }
          ]
         },
         "layout": {
          "annotationdefaults": {
           "arrowcolor": "#2a3f5f",
           "arrowhead": 0,
           "arrowwidth": 1
          },
          "autotypenumbers": "strict",
          "coloraxis": {
           "colorbar": {
            "outlinewidth": 0,
            "ticks": ""
           }
          },
          "colorscale": {
           "diverging": [
            [
             0,
             "#8e0152"
            ],
            [
             0.1,
             "#c51b7d"
            ],
            [
             0.2,
             "#de77ae"
            ],
            [
             0.3,
             "#f1b6da"
            ],
            [
             0.4,
             "#fde0ef"
            ],
            [
             0.5,
             "#f7f7f7"
            ],
            [
             0.6,
             "#e6f5d0"
            ],
            [
             0.7,
             "#b8e186"
            ],
            [
             0.8,
             "#7fbc41"
            ],
            [
             0.9,
             "#4d9221"
            ],
            [
             1,
             "#276419"
            ]
           ],
           "sequential": [
            [
             0,
             "#0d0887"
            ],
            [
             0.1111111111111111,
             "#46039f"
            ],
            [
             0.2222222222222222,
             "#7201a8"
            ],
            [
             0.3333333333333333,
             "#9c179e"
            ],
            [
             0.4444444444444444,
             "#bd3786"
            ],
            [
             0.5555555555555556,
             "#d8576b"
            ],
            [
             0.6666666666666666,
             "#ed7953"
            ],
            [
             0.7777777777777778,
             "#fb9f3a"
            ],
            [
             0.8888888888888888,
             "#fdca26"
            ],
            [
             1,
             "#f0f921"
            ]
           ],
           "sequentialminus": [
            [
             0,
             "#0d0887"
            ],
            [
             0.1111111111111111,
             "#46039f"
            ],
            [
             0.2222222222222222,
             "#7201a8"
            ],
            [
             0.3333333333333333,
             "#9c179e"
            ],
            [
             0.4444444444444444,
             "#bd3786"
            ],
            [
             0.5555555555555556,
             "#d8576b"
            ],
            [
             0.6666666666666666,
             "#ed7953"
            ],
            [
             0.7777777777777778,
             "#fb9f3a"
            ],
            [
             0.8888888888888888,
             "#fdca26"
            ],
            [
             1,
             "#f0f921"
            ]
           ]
          },
          "colorway": [
           "#636efa",
           "#EF553B",
           "#00cc96",
           "#ab63fa",
           "#FFA15A",
           "#19d3f3",
           "#FF6692",
           "#B6E880",
           "#FF97FF",
           "#FECB52"
          ],
          "font": {
           "color": "#2a3f5f"
          },
          "geo": {
           "bgcolor": "white",
           "lakecolor": "white",
           "landcolor": "#E5ECF6",
           "showlakes": true,
           "showland": true,
           "subunitcolor": "white"
          },
          "hoverlabel": {
           "align": "left"
          },
          "hovermode": "closest",
          "mapbox": {
           "style": "light"
          },
          "paper_bgcolor": "white",
          "plot_bgcolor": "#E5ECF6",
          "polar": {
           "angularaxis": {
            "gridcolor": "white",
            "linecolor": "white",
            "ticks": ""
           },
           "bgcolor": "#E5ECF6",
           "radialaxis": {
            "gridcolor": "white",
            "linecolor": "white",
            "ticks": ""
           }
          },
          "scene": {
           "xaxis": {
            "backgroundcolor": "#E5ECF6",
            "gridcolor": "white",
            "gridwidth": 2,
            "linecolor": "white",
            "showbackground": true,
            "ticks": "",
            "zerolinecolor": "white"
           },
           "yaxis": {
            "backgroundcolor": "#E5ECF6",
            "gridcolor": "white",
            "gridwidth": 2,
            "linecolor": "white",
            "showbackground": true,
            "ticks": "",
            "zerolinecolor": "white"
           },
           "zaxis": {
            "backgroundcolor": "#E5ECF6",
            "gridcolor": "white",
            "gridwidth": 2,
            "linecolor": "white",
            "showbackground": true,
            "ticks": "",
            "zerolinecolor": "white"
           }
          },
          "shapedefaults": {
           "line": {
            "color": "#2a3f5f"
           }
          },
          "ternary": {
           "aaxis": {
            "gridcolor": "white",
            "linecolor": "white",
            "ticks": ""
           },
           "baxis": {
            "gridcolor": "white",
            "linecolor": "white",
            "ticks": ""
           },
           "bgcolor": "#E5ECF6",
           "caxis": {
            "gridcolor": "white",
            "linecolor": "white",
            "ticks": ""
           }
          },
          "title": {
           "x": 0.05
          },
          "xaxis": {
           "automargin": true,
           "gridcolor": "white",
           "linecolor": "white",
           "ticks": "",
           "title": {
            "standoff": 15
           },
           "zerolinecolor": "white",
           "zerolinewidth": 2
          },
          "yaxis": {
           "automargin": true,
           "gridcolor": "white",
           "linecolor": "white",
           "ticks": "",
           "title": {
            "standoff": 15
           },
           "zerolinecolor": "white",
           "zerolinewidth": 2
          }
         }
        },
        "title": {
         "text": "Deposits by Address:Ur_bean_3crv"
        }
       }
      },
      "text/html": [
       "<div>                            <div id=\"d3ad596e-ecb8-475d-a22a-b9e3119cc54f\" class=\"plotly-graph-div\" style=\"height:525px; width:100%;\"></div>            <script type=\"text/javascript\">                require([\"plotly\"], function(Plotly) {                    window.PLOTLYENV=window.PLOTLYENV || {};                                    if (document.getElementById(\"d3ad596e-ecb8-475d-a22a-b9e3119cc54f\")) {                    Plotly.newPlot(                        \"d3ad596e-ecb8-475d-a22a-b9e3119cc54f\",                        [{\"domain\":{\"x\":[0.0,1.0],\"y\":[0.0,1.0]},\"hovertemplate\":\"labels=%{label}<br>amount=%{value}<extra></extra>\",\"labels\":[\"other\",\"0xef764bac8a438e7e498c2e5fccf0f174c3e3f8db\",\"0xef49ffe2c1a6f64cfe18a26b3efe7d87830838c8\",\"0xa82240bb0291a8ef6e46a4f6b8abf4737b0b5257\",\"0x9664ca3827d81694aaf1b4c93891de770a9340cf\",\"0xc19cf05f28bd4fd58e427a60ec9416d73b6d6c57\",\"0x56a201b872b50bbdee0021ed4d1bb36359d291ed\",\"0x4c180462a051ab67d8237ede2c987590df2fbbe6\",\"0xde3e4d173f754704a763d39e1dcf0a90c37ec7f0\",\"0xf1a621fe077e4e9ac2c0cefd9b69551db9c3f657\",\"0x808995e68a45b4d5a1ba61429882b47011e96c79\",\"0x41dd131e460e18befd262cf4fe2e2b2f43f6fb7b\",\"0xf05b641229bb2aa63b205ad8b423a390f7ef05a7\",\"0xddfe74f671f6546f49a6d20909999cfe5f09ad78\",\"0x1dc2dc7110f8ee61650864ad6680fe8144b7d6f9\",\"0x9c52dc78bd84007bf63987806f0aeeece0ef14a6\",\"0xbbd2f625f2ecf6b55dc9de8ec7b538e30c799ac6\",\"0x52d3aba582a24eeb9c1210d83ec312487815f405\",\"0xf840aa35b73ee0bbf488d81d684706729aba0a15\",\"0xe693eb739c0be8c2bdd978c550b5d8b8022a8ada\",\"0x7cdfc314b89a851054a9acc324171bf8a31593e9\",\"0x6f9cee855cb1f362f31256c65e1709222e0f2037\",\"0x0f3a1e840f030617b7496194dc96bf9be1e54d59\",\"0x52ccff5c85314bbe4d9c019ee57e5b45ad08b0db\",\"0x305b0ecf72634825f7231058444c65d885e1f327\"],\"legendgroup\":\"\",\"name\":\"\",\"showlegend\":true,\"values\":[24790236.29,4142820.27,3100071.44,2680031.59,2422257.67,1665085.65,1466652.15,1399624.1400000001,1152808.51,1087062.93,1019488.34,999999.99,991886.89,931112.0700000001,916664.27,709146.98,686939.29,685868.77,681969.13,679759.6200000001,658656.74,647494.47,644269.81,597473.9600000001,525067.25],\"type\":\"pie\"}],                        {\"template\":{\"data\":{\"histogram2dcontour\":[{\"type\":\"histogram2dcontour\",\"colorbar\":{\"outlinewidth\":0,\"ticks\":\"\"},\"colorscale\":[[0.0,\"#0d0887\"],[0.1111111111111111,\"#46039f\"],[0.2222222222222222,\"#7201a8\"],[0.3333333333333333,\"#9c179e\"],[0.4444444444444444,\"#bd3786\"],[0.5555555555555556,\"#d8576b\"],[0.6666666666666666,\"#ed7953\"],[0.7777777777777778,\"#fb9f3a\"],[0.8888888888888888,\"#fdca26\"],[1.0,\"#f0f921\"]]}],\"choropleth\":[{\"type\":\"choropleth\",\"colorbar\":{\"outlinewidth\":0,\"ticks\":\"\"}}],\"histogram2d\":[{\"type\":\"histogram2d\",\"colorbar\":{\"outlinewidth\":0,\"ticks\":\"\"},\"colorscale\":[[0.0,\"#0d0887\"],[0.1111111111111111,\"#46039f\"],[0.2222222222222222,\"#7201a8\"],[0.3333333333333333,\"#9c179e\"],[0.4444444444444444,\"#bd3786\"],[0.5555555555555556,\"#d8576b\"],[0.6666666666666666,\"#ed7953\"],[0.7777777777777778,\"#fb9f3a\"],[0.8888888888888888,\"#fdca26\"],[1.0,\"#f0f921\"]]}],\"heatmap\":[{\"type\":\"heatmap\",\"colorbar\":{\"outlinewidth\":0,\"ticks\":\"\"},\"colorscale\":[[0.0,\"#0d0887\"],[0.1111111111111111,\"#46039f\"],[0.2222222222222222,\"#7201a8\"],[0.3333333333333333,\"#9c179e\"],[0.4444444444444444,\"#bd3786\"],[0.5555555555555556,\"#d8576b\"],[0.6666666666666666,\"#ed7953\"],[0.7777777777777778,\"#fb9f3a\"],[0.8888888888888888,\"#fdca26\"],[1.0,\"#f0f921\"]]}],\"heatmapgl\":[{\"type\":\"heatmapgl\",\"colorbar\":{\"outlinewidth\":0,\"ticks\":\"\"},\"colorscale\":[[0.0,\"#0d0887\"],[0.1111111111111111,\"#46039f\"],[0.2222222222222222,\"#7201a8\"],[0.3333333333333333,\"#9c179e\"],[0.4444444444444444,\"#bd3786\"],[0.5555555555555556,\"#d8576b\"],[0.6666666666666666,\"#ed7953\"],[0.7777777777777778,\"#fb9f3a\"],[0.8888888888888888,\"#fdca26\"],[1.0,\"#f0f921\"]]}],\"contourcarpet\":[{\"type\":\"contourcarpet\",\"colorbar\":{\"outlinewidth\":0,\"ticks\":\"\"}}],\"contour\":[{\"type\":\"contour\",\"colorbar\":{\"outlinewidth\":0,\"ticks\":\"\"},\"colorscale\":[[0.0,\"#0d0887\"],[0.1111111111111111,\"#46039f\"],[0.2222222222222222,\"#7201a8\"],[0.3333333333333333,\"#9c179e\"],[0.4444444444444444,\"#bd3786\"],[0.5555555555555556,\"#d8576b\"],[0.6666666666666666,\"#ed7953\"],[0.7777777777777778,\"#fb9f3a\"],[0.8888888888888888,\"#fdca26\"],[1.0,\"#f0f921\"]]}],\"surface\":[{\"type\":\"surface\",\"colorbar\":{\"outlinewidth\":0,\"ticks\":\"\"},\"colorscale\":[[0.0,\"#0d0887\"],[0.1111111111111111,\"#46039f\"],[0.2222222222222222,\"#7201a8\"],[0.3333333333333333,\"#9c179e\"],[0.4444444444444444,\"#bd3786\"],[0.5555555555555556,\"#d8576b\"],[0.6666666666666666,\"#ed7953\"],[0.7777777777777778,\"#fb9f3a\"],[0.8888888888888888,\"#fdca26\"],[1.0,\"#f0f921\"]]}],\"mesh3d\":[{\"type\":\"mesh3d\",\"colorbar\":{\"outlinewidth\":0,\"ticks\":\"\"}}],\"scatter\":[{\"fillpattern\":{\"fillmode\":\"overlay\",\"size\":10,\"solidity\":0.2},\"type\":\"scatter\"}],\"parcoords\":[{\"type\":\"parcoords\",\"line\":{\"colorbar\":{\"outlinewidth\":0,\"ticks\":\"\"}}}],\"scatterpolargl\":[{\"type\":\"scatterpolargl\",\"marker\":{\"colorbar\":{\"outlinewidth\":0,\"ticks\":\"\"}}}],\"bar\":[{\"error_x\":{\"color\":\"#2a3f5f\"},\"error_y\":{\"color\":\"#2a3f5f\"},\"marker\":{\"line\":{\"color\":\"#E5ECF6\",\"width\":0.5},\"pattern\":{\"fillmode\":\"overlay\",\"size\":10,\"solidity\":0.2}},\"type\":\"bar\"}],\"scattergeo\":[{\"type\":\"scattergeo\",\"marker\":{\"colorbar\":{\"outlinewidth\":0,\"ticks\":\"\"}}}],\"scatterpolar\":[{\"type\":\"scatterpolar\",\"marker\":{\"colorbar\":{\"outlinewidth\":0,\"ticks\":\"\"}}}],\"histogram\":[{\"marker\":{\"pattern\":{\"fillmode\":\"overlay\",\"size\":10,\"solidity\":0.2}},\"type\":\"histogram\"}],\"scattergl\":[{\"type\":\"scattergl\",\"marker\":{\"colorbar\":{\"outlinewidth\":0,\"ticks\":\"\"}}}],\"scatter3d\":[{\"type\":\"scatter3d\",\"line\":{\"colorbar\":{\"outlinewidth\":0,\"ticks\":\"\"}},\"marker\":{\"colorbar\":{\"outlinewidth\":0,\"ticks\":\"\"}}}],\"scattermapbox\":[{\"type\":\"scattermapbox\",\"marker\":{\"colorbar\":{\"outlinewidth\":0,\"ticks\":\"\"}}}],\"scatterternary\":[{\"type\":\"scatterternary\",\"marker\":{\"colorbar\":{\"outlinewidth\":0,\"ticks\":\"\"}}}],\"scattercarpet\":[{\"type\":\"scattercarpet\",\"marker\":{\"colorbar\":{\"outlinewidth\":0,\"ticks\":\"\"}}}],\"carpet\":[{\"aaxis\":{\"endlinecolor\":\"#2a3f5f\",\"gridcolor\":\"white\",\"linecolor\":\"white\",\"minorgridcolor\":\"white\",\"startlinecolor\":\"#2a3f5f\"},\"baxis\":{\"endlinecolor\":\"#2a3f5f\",\"gridcolor\":\"white\",\"linecolor\":\"white\",\"minorgridcolor\":\"white\",\"startlinecolor\":\"#2a3f5f\"},\"type\":\"carpet\"}],\"table\":[{\"cells\":{\"fill\":{\"color\":\"#EBF0F8\"},\"line\":{\"color\":\"white\"}},\"header\":{\"fill\":{\"color\":\"#C8D4E3\"},\"line\":{\"color\":\"white\"}},\"type\":\"table\"}],\"barpolar\":[{\"marker\":{\"line\":{\"color\":\"#E5ECF6\",\"width\":0.5},\"pattern\":{\"fillmode\":\"overlay\",\"size\":10,\"solidity\":0.2}},\"type\":\"barpolar\"}],\"pie\":[{\"automargin\":true,\"type\":\"pie\"}]},\"layout\":{\"autotypenumbers\":\"strict\",\"colorway\":[\"#636efa\",\"#EF553B\",\"#00cc96\",\"#ab63fa\",\"#FFA15A\",\"#19d3f3\",\"#FF6692\",\"#B6E880\",\"#FF97FF\",\"#FECB52\"],\"font\":{\"color\":\"#2a3f5f\"},\"hovermode\":\"closest\",\"hoverlabel\":{\"align\":\"left\"},\"paper_bgcolor\":\"white\",\"plot_bgcolor\":\"#E5ECF6\",\"polar\":{\"bgcolor\":\"#E5ECF6\",\"angularaxis\":{\"gridcolor\":\"white\",\"linecolor\":\"white\",\"ticks\":\"\"},\"radialaxis\":{\"gridcolor\":\"white\",\"linecolor\":\"white\",\"ticks\":\"\"}},\"ternary\":{\"bgcolor\":\"#E5ECF6\",\"aaxis\":{\"gridcolor\":\"white\",\"linecolor\":\"white\",\"ticks\":\"\"},\"baxis\":{\"gridcolor\":\"white\",\"linecolor\":\"white\",\"ticks\":\"\"},\"caxis\":{\"gridcolor\":\"white\",\"linecolor\":\"white\",\"ticks\":\"\"}},\"coloraxis\":{\"colorbar\":{\"outlinewidth\":0,\"ticks\":\"\"}},\"colorscale\":{\"sequential\":[[0.0,\"#0d0887\"],[0.1111111111111111,\"#46039f\"],[0.2222222222222222,\"#7201a8\"],[0.3333333333333333,\"#9c179e\"],[0.4444444444444444,\"#bd3786\"],[0.5555555555555556,\"#d8576b\"],[0.6666666666666666,\"#ed7953\"],[0.7777777777777778,\"#fb9f3a\"],[0.8888888888888888,\"#fdca26\"],[1.0,\"#f0f921\"]],\"sequentialminus\":[[0.0,\"#0d0887\"],[0.1111111111111111,\"#46039f\"],[0.2222222222222222,\"#7201a8\"],[0.3333333333333333,\"#9c179e\"],[0.4444444444444444,\"#bd3786\"],[0.5555555555555556,\"#d8576b\"],[0.6666666666666666,\"#ed7953\"],[0.7777777777777778,\"#fb9f3a\"],[0.8888888888888888,\"#fdca26\"],[1.0,\"#f0f921\"]],\"diverging\":[[0,\"#8e0152\"],[0.1,\"#c51b7d\"],[0.2,\"#de77ae\"],[0.3,\"#f1b6da\"],[0.4,\"#fde0ef\"],[0.5,\"#f7f7f7\"],[0.6,\"#e6f5d0\"],[0.7,\"#b8e186\"],[0.8,\"#7fbc41\"],[0.9,\"#4d9221\"],[1,\"#276419\"]]},\"xaxis\":{\"gridcolor\":\"white\",\"linecolor\":\"white\",\"ticks\":\"\",\"title\":{\"standoff\":15},\"zerolinecolor\":\"white\",\"automargin\":true,\"zerolinewidth\":2},\"yaxis\":{\"gridcolor\":\"white\",\"linecolor\":\"white\",\"ticks\":\"\",\"title\":{\"standoff\":15},\"zerolinecolor\":\"white\",\"automargin\":true,\"zerolinewidth\":2},\"scene\":{\"xaxis\":{\"backgroundcolor\":\"#E5ECF6\",\"gridcolor\":\"white\",\"linecolor\":\"white\",\"showbackground\":true,\"ticks\":\"\",\"zerolinecolor\":\"white\",\"gridwidth\":2},\"yaxis\":{\"backgroundcolor\":\"#E5ECF6\",\"gridcolor\":\"white\",\"linecolor\":\"white\",\"showbackground\":true,\"ticks\":\"\",\"zerolinecolor\":\"white\",\"gridwidth\":2},\"zaxis\":{\"backgroundcolor\":\"#E5ECF6\",\"gridcolor\":\"white\",\"linecolor\":\"white\",\"showbackground\":true,\"ticks\":\"\",\"zerolinecolor\":\"white\",\"gridwidth\":2}},\"shapedefaults\":{\"line\":{\"color\":\"#2a3f5f\"}},\"annotationdefaults\":{\"arrowcolor\":\"#2a3f5f\",\"arrowhead\":0,\"arrowwidth\":1},\"geo\":{\"bgcolor\":\"white\",\"landcolor\":\"#E5ECF6\",\"subunitcolor\":\"white\",\"showland\":true,\"showlakes\":true,\"lakecolor\":\"white\"},\"title\":{\"x\":0.05},\"mapbox\":{\"style\":\"light\"}}},\"legend\":{\"tracegroupgap\":0},\"title\":{\"text\":\"Deposits by Address:Ur_bean_3crv\"}},                        {\"responsive\": true}                    ).then(function(){\n",
       "                            \n",
       "var gd = document.getElementById('d3ad596e-ecb8-475d-a22a-b9e3119cc54f');\n",
       "var x = new MutationObserver(function (mutations, observer) {{\n",
       "        var display = window.getComputedStyle(gd).display;\n",
       "        if (!display || display === 'none') {{\n",
       "            console.log([gd, 'removed!']);\n",
       "            Plotly.purge(gd);\n",
       "            observer.disconnect();\n",
       "        }}\n",
       "}});\n",
       "\n",
       "// Listen for the removal of the full notebook cells\n",
       "var notebookContainer = gd.closest('#notebook-container');\n",
       "if (notebookContainer) {{\n",
       "    x.observe(notebookContainer, {childList: true});\n",
       "}}\n",
       "\n",
       "// Listen for the clearing of the current output cell\n",
       "var outputEl = gd.closest('.output');\n",
       "if (outputEl) {{\n",
       "    x.observe(outputEl, {childList: true});\n",
       "}}\n",
       "\n",
       "                        })                };                });            </script>        </div>"
      ]
     },
     "metadata": {},
     "output_type": "display_data"
    },
    {
     "data": {
      "application/vnd.plotly.v1+json": {
       "config": {
        "plotlyServerURL": "https://plot.ly"
       },
       "data": [
        {
         "domain": {
          "x": [
           0,
           1
          ],
          "y": [
           0,
           1
          ]
         },
         "hovertemplate": "labels=%{label}<br>amount=%{value}<extra></extra>",
         "labels": [
          "0x8d9261369e3bfba715f63303236c324d2e3c44ec",
          "0x4a24e54a090b0fa060f7faaf561510775d314e84",
          "0xf9d183af486a973b7921ceb5fdc9908d12aab440",
          "other",
          "0x0933f554312c7bcb86df896c46a44ac2381383d1",
          "0x1c694fc3006d81ff4a56f97e1b99529066a23725",
          "0xe09c29f85079035709b0cf2839750bcf5dcde163",
          "0xb1d229741797536194f54892cb3aa7545fbf1450",
          "0x735cab9b02fd153174763958ffb4e0a971dd7f29",
          "0xacc53f19851ce116d52b730aee8772f7bd568821",
          "0x4bf44e0c856d096b755d54ca1e9cfdc0115ed2e6"
         ],
         "legendgroup": "",
         "name": "",
         "showlegend": true,
         "type": "pie",
         "values": [
          132127.78,
          93442,
          92014.83,
          85093.59,
          73934.05,
          42750,
          35000,
          28750,
          25712.399999999998,
          11879.7,
          10546.12
         ]
        }
       ],
       "layout": {
        "legend": {
         "tracegroupgap": 0
        },
        "template": {
         "data": {
          "bar": [
           {
            "error_x": {
             "color": "#2a3f5f"
            },
            "error_y": {
             "color": "#2a3f5f"
            },
            "marker": {
             "line": {
              "color": "#E5ECF6",
              "width": 0.5
             },
             "pattern": {
              "fillmode": "overlay",
              "size": 10,
              "solidity": 0.2
             }
            },
            "type": "bar"
           }
          ],
          "barpolar": [
           {
            "marker": {
             "line": {
              "color": "#E5ECF6",
              "width": 0.5
             },
             "pattern": {
              "fillmode": "overlay",
              "size": 10,
              "solidity": 0.2
             }
            },
            "type": "barpolar"
           }
          ],
          "carpet": [
           {
            "aaxis": {
             "endlinecolor": "#2a3f5f",
             "gridcolor": "white",
             "linecolor": "white",
             "minorgridcolor": "white",
             "startlinecolor": "#2a3f5f"
            },
            "baxis": {
             "endlinecolor": "#2a3f5f",
             "gridcolor": "white",
             "linecolor": "white",
             "minorgridcolor": "white",
             "startlinecolor": "#2a3f5f"
            },
            "type": "carpet"
           }
          ],
          "choropleth": [
           {
            "colorbar": {
             "outlinewidth": 0,
             "ticks": ""
            },
            "type": "choropleth"
           }
          ],
          "contour": [
           {
            "colorbar": {
             "outlinewidth": 0,
             "ticks": ""
            },
            "colorscale": [
             [
              0,
              "#0d0887"
             ],
             [
              0.1111111111111111,
              "#46039f"
             ],
             [
              0.2222222222222222,
              "#7201a8"
             ],
             [
              0.3333333333333333,
              "#9c179e"
             ],
             [
              0.4444444444444444,
              "#bd3786"
             ],
             [
              0.5555555555555556,
              "#d8576b"
             ],
             [
              0.6666666666666666,
              "#ed7953"
             ],
             [
              0.7777777777777778,
              "#fb9f3a"
             ],
             [
              0.8888888888888888,
              "#fdca26"
             ],
             [
              1,
              "#f0f921"
             ]
            ],
            "type": "contour"
           }
          ],
          "contourcarpet": [
           {
            "colorbar": {
             "outlinewidth": 0,
             "ticks": ""
            },
            "type": "contourcarpet"
           }
          ],
          "heatmap": [
           {
            "colorbar": {
             "outlinewidth": 0,
             "ticks": ""
            },
            "colorscale": [
             [
              0,
              "#0d0887"
             ],
             [
              0.1111111111111111,
              "#46039f"
             ],
             [
              0.2222222222222222,
              "#7201a8"
             ],
             [
              0.3333333333333333,
              "#9c179e"
             ],
             [
              0.4444444444444444,
              "#bd3786"
             ],
             [
              0.5555555555555556,
              "#d8576b"
             ],
             [
              0.6666666666666666,
              "#ed7953"
             ],
             [
              0.7777777777777778,
              "#fb9f3a"
             ],
             [
              0.8888888888888888,
              "#fdca26"
             ],
             [
              1,
              "#f0f921"
             ]
            ],
            "type": "heatmap"
           }
          ],
          "heatmapgl": [
           {
            "colorbar": {
             "outlinewidth": 0,
             "ticks": ""
            },
            "colorscale": [
             [
              0,
              "#0d0887"
             ],
             [
              0.1111111111111111,
              "#46039f"
             ],
             [
              0.2222222222222222,
              "#7201a8"
             ],
             [
              0.3333333333333333,
              "#9c179e"
             ],
             [
              0.4444444444444444,
              "#bd3786"
             ],
             [
              0.5555555555555556,
              "#d8576b"
             ],
             [
              0.6666666666666666,
              "#ed7953"
             ],
             [
              0.7777777777777778,
              "#fb9f3a"
             ],
             [
              0.8888888888888888,
              "#fdca26"
             ],
             [
              1,
              "#f0f921"
             ]
            ],
            "type": "heatmapgl"
           }
          ],
          "histogram": [
           {
            "marker": {
             "pattern": {
              "fillmode": "overlay",
              "size": 10,
              "solidity": 0.2
             }
            },
            "type": "histogram"
           }
          ],
          "histogram2d": [
           {
            "colorbar": {
             "outlinewidth": 0,
             "ticks": ""
            },
            "colorscale": [
             [
              0,
              "#0d0887"
             ],
             [
              0.1111111111111111,
              "#46039f"
             ],
             [
              0.2222222222222222,
              "#7201a8"
             ],
             [
              0.3333333333333333,
              "#9c179e"
             ],
             [
              0.4444444444444444,
              "#bd3786"
             ],
             [
              0.5555555555555556,
              "#d8576b"
             ],
             [
              0.6666666666666666,
              "#ed7953"
             ],
             [
              0.7777777777777778,
              "#fb9f3a"
             ],
             [
              0.8888888888888888,
              "#fdca26"
             ],
             [
              1,
              "#f0f921"
             ]
            ],
            "type": "histogram2d"
           }
          ],
          "histogram2dcontour": [
           {
            "colorbar": {
             "outlinewidth": 0,
             "ticks": ""
            },
            "colorscale": [
             [
              0,
              "#0d0887"
             ],
             [
              0.1111111111111111,
              "#46039f"
             ],
             [
              0.2222222222222222,
              "#7201a8"
             ],
             [
              0.3333333333333333,
              "#9c179e"
             ],
             [
              0.4444444444444444,
              "#bd3786"
             ],
             [
              0.5555555555555556,
              "#d8576b"
             ],
             [
              0.6666666666666666,
              "#ed7953"
             ],
             [
              0.7777777777777778,
              "#fb9f3a"
             ],
             [
              0.8888888888888888,
              "#fdca26"
             ],
             [
              1,
              "#f0f921"
             ]
            ],
            "type": "histogram2dcontour"
           }
          ],
          "mesh3d": [
           {
            "colorbar": {
             "outlinewidth": 0,
             "ticks": ""
            },
            "type": "mesh3d"
           }
          ],
          "parcoords": [
           {
            "line": {
             "colorbar": {
              "outlinewidth": 0,
              "ticks": ""
             }
            },
            "type": "parcoords"
           }
          ],
          "pie": [
           {
            "automargin": true,
            "type": "pie"
           }
          ],
          "scatter": [
           {
            "fillpattern": {
             "fillmode": "overlay",
             "size": 10,
             "solidity": 0.2
            },
            "type": "scatter"
           }
          ],
          "scatter3d": [
           {
            "line": {
             "colorbar": {
              "outlinewidth": 0,
              "ticks": ""
             }
            },
            "marker": {
             "colorbar": {
              "outlinewidth": 0,
              "ticks": ""
             }
            },
            "type": "scatter3d"
           }
          ],
          "scattercarpet": [
           {
            "marker": {
             "colorbar": {
              "outlinewidth": 0,
              "ticks": ""
             }
            },
            "type": "scattercarpet"
           }
          ],
          "scattergeo": [
           {
            "marker": {
             "colorbar": {
              "outlinewidth": 0,
              "ticks": ""
             }
            },
            "type": "scattergeo"
           }
          ],
          "scattergl": [
           {
            "marker": {
             "colorbar": {
              "outlinewidth": 0,
              "ticks": ""
             }
            },
            "type": "scattergl"
           }
          ],
          "scattermapbox": [
           {
            "marker": {
             "colorbar": {
              "outlinewidth": 0,
              "ticks": ""
             }
            },
            "type": "scattermapbox"
           }
          ],
          "scatterpolar": [
           {
            "marker": {
             "colorbar": {
              "outlinewidth": 0,
              "ticks": ""
             }
            },
            "type": "scatterpolar"
           }
          ],
          "scatterpolargl": [
           {
            "marker": {
             "colorbar": {
              "outlinewidth": 0,
              "ticks": ""
             }
            },
            "type": "scatterpolargl"
           }
          ],
          "scatterternary": [
           {
            "marker": {
             "colorbar": {
              "outlinewidth": 0,
              "ticks": ""
             }
            },
            "type": "scatterternary"
           }
          ],
          "surface": [
           {
            "colorbar": {
             "outlinewidth": 0,
             "ticks": ""
            },
            "colorscale": [
             [
              0,
              "#0d0887"
             ],
             [
              0.1111111111111111,
              "#46039f"
             ],
             [
              0.2222222222222222,
              "#7201a8"
             ],
             [
              0.3333333333333333,
              "#9c179e"
             ],
             [
              0.4444444444444444,
              "#bd3786"
             ],
             [
              0.5555555555555556,
              "#d8576b"
             ],
             [
              0.6666666666666666,
              "#ed7953"
             ],
             [
              0.7777777777777778,
              "#fb9f3a"
             ],
             [
              0.8888888888888888,
              "#fdca26"
             ],
             [
              1,
              "#f0f921"
             ]
            ],
            "type": "surface"
           }
          ],
          "table": [
           {
            "cells": {
             "fill": {
              "color": "#EBF0F8"
             },
             "line": {
              "color": "white"
             }
            },
            "header": {
             "fill": {
              "color": "#C8D4E3"
             },
             "line": {
              "color": "white"
             }
            },
            "type": "table"
           }
          ]
         },
         "layout": {
          "annotationdefaults": {
           "arrowcolor": "#2a3f5f",
           "arrowhead": 0,
           "arrowwidth": 1
          },
          "autotypenumbers": "strict",
          "coloraxis": {
           "colorbar": {
            "outlinewidth": 0,
            "ticks": ""
           }
          },
          "colorscale": {
           "diverging": [
            [
             0,
             "#8e0152"
            ],
            [
             0.1,
             "#c51b7d"
            ],
            [
             0.2,
             "#de77ae"
            ],
            [
             0.3,
             "#f1b6da"
            ],
            [
             0.4,
             "#fde0ef"
            ],
            [
             0.5,
             "#f7f7f7"
            ],
            [
             0.6,
             "#e6f5d0"
            ],
            [
             0.7,
             "#b8e186"
            ],
            [
             0.8,
             "#7fbc41"
            ],
            [
             0.9,
             "#4d9221"
            ],
            [
             1,
             "#276419"
            ]
           ],
           "sequential": [
            [
             0,
             "#0d0887"
            ],
            [
             0.1111111111111111,
             "#46039f"
            ],
            [
             0.2222222222222222,
             "#7201a8"
            ],
            [
             0.3333333333333333,
             "#9c179e"
            ],
            [
             0.4444444444444444,
             "#bd3786"
            ],
            [
             0.5555555555555556,
             "#d8576b"
            ],
            [
             0.6666666666666666,
             "#ed7953"
            ],
            [
             0.7777777777777778,
             "#fb9f3a"
            ],
            [
             0.8888888888888888,
             "#fdca26"
            ],
            [
             1,
             "#f0f921"
            ]
           ],
           "sequentialminus": [
            [
             0,
             "#0d0887"
            ],
            [
             0.1111111111111111,
             "#46039f"
            ],
            [
             0.2222222222222222,
             "#7201a8"
            ],
            [
             0.3333333333333333,
             "#9c179e"
            ],
            [
             0.4444444444444444,
             "#bd3786"
            ],
            [
             0.5555555555555556,
             "#d8576b"
            ],
            [
             0.6666666666666666,
             "#ed7953"
            ],
            [
             0.7777777777777778,
             "#fb9f3a"
            ],
            [
             0.8888888888888888,
             "#fdca26"
            ],
            [
             1,
             "#f0f921"
            ]
           ]
          },
          "colorway": [
           "#636efa",
           "#EF553B",
           "#00cc96",
           "#ab63fa",
           "#FFA15A",
           "#19d3f3",
           "#FF6692",
           "#B6E880",
           "#FF97FF",
           "#FECB52"
          ],
          "font": {
           "color": "#2a3f5f"
          },
          "geo": {
           "bgcolor": "white",
           "lakecolor": "white",
           "landcolor": "#E5ECF6",
           "showlakes": true,
           "showland": true,
           "subunitcolor": "white"
          },
          "hoverlabel": {
           "align": "left"
          },
          "hovermode": "closest",
          "mapbox": {
           "style": "light"
          },
          "paper_bgcolor": "white",
          "plot_bgcolor": "#E5ECF6",
          "polar": {
           "angularaxis": {
            "gridcolor": "white",
            "linecolor": "white",
            "ticks": ""
           },
           "bgcolor": "#E5ECF6",
           "radialaxis": {
            "gridcolor": "white",
            "linecolor": "white",
            "ticks": ""
           }
          },
          "scene": {
           "xaxis": {
            "backgroundcolor": "#E5ECF6",
            "gridcolor": "white",
            "gridwidth": 2,
            "linecolor": "white",
            "showbackground": true,
            "ticks": "",
            "zerolinecolor": "white"
           },
           "yaxis": {
            "backgroundcolor": "#E5ECF6",
            "gridcolor": "white",
            "gridwidth": 2,
            "linecolor": "white",
            "showbackground": true,
            "ticks": "",
            "zerolinecolor": "white"
           },
           "zaxis": {
            "backgroundcolor": "#E5ECF6",
            "gridcolor": "white",
            "gridwidth": 2,
            "linecolor": "white",
            "showbackground": true,
            "ticks": "",
            "zerolinecolor": "white"
           }
          },
          "shapedefaults": {
           "line": {
            "color": "#2a3f5f"
           }
          },
          "ternary": {
           "aaxis": {
            "gridcolor": "white",
            "linecolor": "white",
            "ticks": ""
           },
           "baxis": {
            "gridcolor": "white",
            "linecolor": "white",
            "ticks": ""
           },
           "bgcolor": "#E5ECF6",
           "caxis": {
            "gridcolor": "white",
            "linecolor": "white",
            "ticks": ""
           }
          },
          "title": {
           "x": 0.05
          },
          "xaxis": {
           "automargin": true,
           "gridcolor": "white",
           "linecolor": "white",
           "ticks": "",
           "title": {
            "standoff": 15
           },
           "zerolinecolor": "white",
           "zerolinewidth": 2
          },
          "yaxis": {
           "automargin": true,
           "gridcolor": "white",
           "linecolor": "white",
           "ticks": "",
           "title": {
            "standoff": 15
           },
           "zerolinecolor": "white",
           "zerolinewidth": 2
          }
         }
        },
        "title": {
         "text": "Deposits by Address:Bean"
        }
       }
      },
      "text/html": [
       "<div>                            <div id=\"56d20f18-c716-404e-845a-757aa89c855f\" class=\"plotly-graph-div\" style=\"height:525px; width:100%;\"></div>            <script type=\"text/javascript\">                require([\"plotly\"], function(Plotly) {                    window.PLOTLYENV=window.PLOTLYENV || {};                                    if (document.getElementById(\"56d20f18-c716-404e-845a-757aa89c855f\")) {                    Plotly.newPlot(                        \"56d20f18-c716-404e-845a-757aa89c855f\",                        [{\"domain\":{\"x\":[0.0,1.0],\"y\":[0.0,1.0]},\"hovertemplate\":\"labels=%{label}<br>amount=%{value}<extra></extra>\",\"labels\":[\"0x8d9261369e3bfba715f63303236c324d2e3c44ec\",\"0x4a24e54a090b0fa060f7faaf561510775d314e84\",\"0xf9d183af486a973b7921ceb5fdc9908d12aab440\",\"other\",\"0x0933f554312c7bcb86df896c46a44ac2381383d1\",\"0x1c694fc3006d81ff4a56f97e1b99529066a23725\",\"0xe09c29f85079035709b0cf2839750bcf5dcde163\",\"0xb1d229741797536194f54892cb3aa7545fbf1450\",\"0x735cab9b02fd153174763958ffb4e0a971dd7f29\",\"0xacc53f19851ce116d52b730aee8772f7bd568821\",\"0x4bf44e0c856d096b755d54ca1e9cfdc0115ed2e6\"],\"legendgroup\":\"\",\"name\":\"\",\"showlegend\":true,\"values\":[132127.78,93442.0,92014.83,85093.59,73934.05,42750.0,35000.0,28750.0,25712.399999999998,11879.7,10546.12],\"type\":\"pie\"}],                        {\"template\":{\"data\":{\"histogram2dcontour\":[{\"type\":\"histogram2dcontour\",\"colorbar\":{\"outlinewidth\":0,\"ticks\":\"\"},\"colorscale\":[[0.0,\"#0d0887\"],[0.1111111111111111,\"#46039f\"],[0.2222222222222222,\"#7201a8\"],[0.3333333333333333,\"#9c179e\"],[0.4444444444444444,\"#bd3786\"],[0.5555555555555556,\"#d8576b\"],[0.6666666666666666,\"#ed7953\"],[0.7777777777777778,\"#fb9f3a\"],[0.8888888888888888,\"#fdca26\"],[1.0,\"#f0f921\"]]}],\"choropleth\":[{\"type\":\"choropleth\",\"colorbar\":{\"outlinewidth\":0,\"ticks\":\"\"}}],\"histogram2d\":[{\"type\":\"histogram2d\",\"colorbar\":{\"outlinewidth\":0,\"ticks\":\"\"},\"colorscale\":[[0.0,\"#0d0887\"],[0.1111111111111111,\"#46039f\"],[0.2222222222222222,\"#7201a8\"],[0.3333333333333333,\"#9c179e\"],[0.4444444444444444,\"#bd3786\"],[0.5555555555555556,\"#d8576b\"],[0.6666666666666666,\"#ed7953\"],[0.7777777777777778,\"#fb9f3a\"],[0.8888888888888888,\"#fdca26\"],[1.0,\"#f0f921\"]]}],\"heatmap\":[{\"type\":\"heatmap\",\"colorbar\":{\"outlinewidth\":0,\"ticks\":\"\"},\"colorscale\":[[0.0,\"#0d0887\"],[0.1111111111111111,\"#46039f\"],[0.2222222222222222,\"#7201a8\"],[0.3333333333333333,\"#9c179e\"],[0.4444444444444444,\"#bd3786\"],[0.5555555555555556,\"#d8576b\"],[0.6666666666666666,\"#ed7953\"],[0.7777777777777778,\"#fb9f3a\"],[0.8888888888888888,\"#fdca26\"],[1.0,\"#f0f921\"]]}],\"heatmapgl\":[{\"type\":\"heatmapgl\",\"colorbar\":{\"outlinewidth\":0,\"ticks\":\"\"},\"colorscale\":[[0.0,\"#0d0887\"],[0.1111111111111111,\"#46039f\"],[0.2222222222222222,\"#7201a8\"],[0.3333333333333333,\"#9c179e\"],[0.4444444444444444,\"#bd3786\"],[0.5555555555555556,\"#d8576b\"],[0.6666666666666666,\"#ed7953\"],[0.7777777777777778,\"#fb9f3a\"],[0.8888888888888888,\"#fdca26\"],[1.0,\"#f0f921\"]]}],\"contourcarpet\":[{\"type\":\"contourcarpet\",\"colorbar\":{\"outlinewidth\":0,\"ticks\":\"\"}}],\"contour\":[{\"type\":\"contour\",\"colorbar\":{\"outlinewidth\":0,\"ticks\":\"\"},\"colorscale\":[[0.0,\"#0d0887\"],[0.1111111111111111,\"#46039f\"],[0.2222222222222222,\"#7201a8\"],[0.3333333333333333,\"#9c179e\"],[0.4444444444444444,\"#bd3786\"],[0.5555555555555556,\"#d8576b\"],[0.6666666666666666,\"#ed7953\"],[0.7777777777777778,\"#fb9f3a\"],[0.8888888888888888,\"#fdca26\"],[1.0,\"#f0f921\"]]}],\"surface\":[{\"type\":\"surface\",\"colorbar\":{\"outlinewidth\":0,\"ticks\":\"\"},\"colorscale\":[[0.0,\"#0d0887\"],[0.1111111111111111,\"#46039f\"],[0.2222222222222222,\"#7201a8\"],[0.3333333333333333,\"#9c179e\"],[0.4444444444444444,\"#bd3786\"],[0.5555555555555556,\"#d8576b\"],[0.6666666666666666,\"#ed7953\"],[0.7777777777777778,\"#fb9f3a\"],[0.8888888888888888,\"#fdca26\"],[1.0,\"#f0f921\"]]}],\"mesh3d\":[{\"type\":\"mesh3d\",\"colorbar\":{\"outlinewidth\":0,\"ticks\":\"\"}}],\"scatter\":[{\"fillpattern\":{\"fillmode\":\"overlay\",\"size\":10,\"solidity\":0.2},\"type\":\"scatter\"}],\"parcoords\":[{\"type\":\"parcoords\",\"line\":{\"colorbar\":{\"outlinewidth\":0,\"ticks\":\"\"}}}],\"scatterpolargl\":[{\"type\":\"scatterpolargl\",\"marker\":{\"colorbar\":{\"outlinewidth\":0,\"ticks\":\"\"}}}],\"bar\":[{\"error_x\":{\"color\":\"#2a3f5f\"},\"error_y\":{\"color\":\"#2a3f5f\"},\"marker\":{\"line\":{\"color\":\"#E5ECF6\",\"width\":0.5},\"pattern\":{\"fillmode\":\"overlay\",\"size\":10,\"solidity\":0.2}},\"type\":\"bar\"}],\"scattergeo\":[{\"type\":\"scattergeo\",\"marker\":{\"colorbar\":{\"outlinewidth\":0,\"ticks\":\"\"}}}],\"scatterpolar\":[{\"type\":\"scatterpolar\",\"marker\":{\"colorbar\":{\"outlinewidth\":0,\"ticks\":\"\"}}}],\"histogram\":[{\"marker\":{\"pattern\":{\"fillmode\":\"overlay\",\"size\":10,\"solidity\":0.2}},\"type\":\"histogram\"}],\"scattergl\":[{\"type\":\"scattergl\",\"marker\":{\"colorbar\":{\"outlinewidth\":0,\"ticks\":\"\"}}}],\"scatter3d\":[{\"type\":\"scatter3d\",\"line\":{\"colorbar\":{\"outlinewidth\":0,\"ticks\":\"\"}},\"marker\":{\"colorbar\":{\"outlinewidth\":0,\"ticks\":\"\"}}}],\"scattermapbox\":[{\"type\":\"scattermapbox\",\"marker\":{\"colorbar\":{\"outlinewidth\":0,\"ticks\":\"\"}}}],\"scatterternary\":[{\"type\":\"scatterternary\",\"marker\":{\"colorbar\":{\"outlinewidth\":0,\"ticks\":\"\"}}}],\"scattercarpet\":[{\"type\":\"scattercarpet\",\"marker\":{\"colorbar\":{\"outlinewidth\":0,\"ticks\":\"\"}}}],\"carpet\":[{\"aaxis\":{\"endlinecolor\":\"#2a3f5f\",\"gridcolor\":\"white\",\"linecolor\":\"white\",\"minorgridcolor\":\"white\",\"startlinecolor\":\"#2a3f5f\"},\"baxis\":{\"endlinecolor\":\"#2a3f5f\",\"gridcolor\":\"white\",\"linecolor\":\"white\",\"minorgridcolor\":\"white\",\"startlinecolor\":\"#2a3f5f\"},\"type\":\"carpet\"}],\"table\":[{\"cells\":{\"fill\":{\"color\":\"#EBF0F8\"},\"line\":{\"color\":\"white\"}},\"header\":{\"fill\":{\"color\":\"#C8D4E3\"},\"line\":{\"color\":\"white\"}},\"type\":\"table\"}],\"barpolar\":[{\"marker\":{\"line\":{\"color\":\"#E5ECF6\",\"width\":0.5},\"pattern\":{\"fillmode\":\"overlay\",\"size\":10,\"solidity\":0.2}},\"type\":\"barpolar\"}],\"pie\":[{\"automargin\":true,\"type\":\"pie\"}]},\"layout\":{\"autotypenumbers\":\"strict\",\"colorway\":[\"#636efa\",\"#EF553B\",\"#00cc96\",\"#ab63fa\",\"#FFA15A\",\"#19d3f3\",\"#FF6692\",\"#B6E880\",\"#FF97FF\",\"#FECB52\"],\"font\":{\"color\":\"#2a3f5f\"},\"hovermode\":\"closest\",\"hoverlabel\":{\"align\":\"left\"},\"paper_bgcolor\":\"white\",\"plot_bgcolor\":\"#E5ECF6\",\"polar\":{\"bgcolor\":\"#E5ECF6\",\"angularaxis\":{\"gridcolor\":\"white\",\"linecolor\":\"white\",\"ticks\":\"\"},\"radialaxis\":{\"gridcolor\":\"white\",\"linecolor\":\"white\",\"ticks\":\"\"}},\"ternary\":{\"bgcolor\":\"#E5ECF6\",\"aaxis\":{\"gridcolor\":\"white\",\"linecolor\":\"white\",\"ticks\":\"\"},\"baxis\":{\"gridcolor\":\"white\",\"linecolor\":\"white\",\"ticks\":\"\"},\"caxis\":{\"gridcolor\":\"white\",\"linecolor\":\"white\",\"ticks\":\"\"}},\"coloraxis\":{\"colorbar\":{\"outlinewidth\":0,\"ticks\":\"\"}},\"colorscale\":{\"sequential\":[[0.0,\"#0d0887\"],[0.1111111111111111,\"#46039f\"],[0.2222222222222222,\"#7201a8\"],[0.3333333333333333,\"#9c179e\"],[0.4444444444444444,\"#bd3786\"],[0.5555555555555556,\"#d8576b\"],[0.6666666666666666,\"#ed7953\"],[0.7777777777777778,\"#fb9f3a\"],[0.8888888888888888,\"#fdca26\"],[1.0,\"#f0f921\"]],\"sequentialminus\":[[0.0,\"#0d0887\"],[0.1111111111111111,\"#46039f\"],[0.2222222222222222,\"#7201a8\"],[0.3333333333333333,\"#9c179e\"],[0.4444444444444444,\"#bd3786\"],[0.5555555555555556,\"#d8576b\"],[0.6666666666666666,\"#ed7953\"],[0.7777777777777778,\"#fb9f3a\"],[0.8888888888888888,\"#fdca26\"],[1.0,\"#f0f921\"]],\"diverging\":[[0,\"#8e0152\"],[0.1,\"#c51b7d\"],[0.2,\"#de77ae\"],[0.3,\"#f1b6da\"],[0.4,\"#fde0ef\"],[0.5,\"#f7f7f7\"],[0.6,\"#e6f5d0\"],[0.7,\"#b8e186\"],[0.8,\"#7fbc41\"],[0.9,\"#4d9221\"],[1,\"#276419\"]]},\"xaxis\":{\"gridcolor\":\"white\",\"linecolor\":\"white\",\"ticks\":\"\",\"title\":{\"standoff\":15},\"zerolinecolor\":\"white\",\"automargin\":true,\"zerolinewidth\":2},\"yaxis\":{\"gridcolor\":\"white\",\"linecolor\":\"white\",\"ticks\":\"\",\"title\":{\"standoff\":15},\"zerolinecolor\":\"white\",\"automargin\":true,\"zerolinewidth\":2},\"scene\":{\"xaxis\":{\"backgroundcolor\":\"#E5ECF6\",\"gridcolor\":\"white\",\"linecolor\":\"white\",\"showbackground\":true,\"ticks\":\"\",\"zerolinecolor\":\"white\",\"gridwidth\":2},\"yaxis\":{\"backgroundcolor\":\"#E5ECF6\",\"gridcolor\":\"white\",\"linecolor\":\"white\",\"showbackground\":true,\"ticks\":\"\",\"zerolinecolor\":\"white\",\"gridwidth\":2},\"zaxis\":{\"backgroundcolor\":\"#E5ECF6\",\"gridcolor\":\"white\",\"linecolor\":\"white\",\"showbackground\":true,\"ticks\":\"\",\"zerolinecolor\":\"white\",\"gridwidth\":2}},\"shapedefaults\":{\"line\":{\"color\":\"#2a3f5f\"}},\"annotationdefaults\":{\"arrowcolor\":\"#2a3f5f\",\"arrowhead\":0,\"arrowwidth\":1},\"geo\":{\"bgcolor\":\"white\",\"landcolor\":\"#E5ECF6\",\"subunitcolor\":\"white\",\"showland\":true,\"showlakes\":true,\"lakecolor\":\"white\"},\"title\":{\"x\":0.05},\"mapbox\":{\"style\":\"light\"}}},\"legend\":{\"tracegroupgap\":0},\"title\":{\"text\":\"Deposits by Address:Bean\"}},                        {\"responsive\": true}                    ).then(function(){\n",
       "                            \n",
       "var gd = document.getElementById('56d20f18-c716-404e-845a-757aa89c855f');\n",
       "var x = new MutationObserver(function (mutations, observer) {{\n",
       "        var display = window.getComputedStyle(gd).display;\n",
       "        if (!display || display === 'none') {{\n",
       "            console.log([gd, 'removed!']);\n",
       "            Plotly.purge(gd);\n",
       "            observer.disconnect();\n",
       "        }}\n",
       "}});\n",
       "\n",
       "// Listen for the removal of the full notebook cells\n",
       "var notebookContainer = gd.closest('#notebook-container');\n",
       "if (notebookContainer) {{\n",
       "    x.observe(notebookContainer, {childList: true});\n",
       "}}\n",
       "\n",
       "// Listen for the clearing of the current output cell\n",
       "var outputEl = gd.closest('.output');\n",
       "if (outputEl) {{\n",
       "    x.observe(outputEl, {childList: true});\n",
       "}}\n",
       "\n",
       "                        })                };                });            </script>        </div>"
      ]
     },
     "metadata": {},
     "output_type": "display_data"
    }
   ],
   "source": [
    "pie_chart(bean_3crv, 4*10**15,\"Bean_3crv\")\n",
    "pie_chart(ur_bean,400000,'Ur_bean')\n",
    "pie_chart(ur_bean_3crv, 500000,\"Ur_bean_3crv\")\n",
    "pie_chart(bean,10000,'Bean')\n",
    "\n"
   ]
  }
 ],
 "metadata": {
  "kernelspec": {
   "display_name": "Python 3 (ipykernel)",
   "language": "python",
   "name": "python3"
  },
  "language_info": {
   "codemirror_mode": {
    "name": "ipython",
    "version": 3
   },
   "file_extension": ".py",
   "mimetype": "text/x-python",
   "name": "python",
   "nbconvert_exporter": "python",
   "pygments_lexer": "ipython3",
   "version": "3.9.7"
  }
 },
 "nbformat": 4,
 "nbformat_minor": 5
}
